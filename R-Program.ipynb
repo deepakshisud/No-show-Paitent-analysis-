{
 "cells": [
  {
   "cell_type": "code",
   "execution_count": 2,
   "metadata": {},
   "outputs": [
    {
     "name": "stdout",
     "output_type": "stream",
     "text": [
      "package 'plyr' successfully unpacked and MD5 sums checked\n"
     ]
    },
    {
     "name": "stderr",
     "output_type": "stream",
     "text": [
      "Warning message:\n",
      "\"cannot remove prior installation of package 'plyr'\"Warning message in file.copy(savedcopy, lib, recursive = TRUE):\n",
      "\"problem copying C:\\ProgramData\\Anaconda3\\Lib\\R\\library\\00LOCK\\plyr\\libs\\x64\\plyr.dll to C:\\ProgramData\\Anaconda3\\Lib\\R\\library\\plyr\\libs\\x64\\plyr.dll: Permission denied\"Warning message:\n",
      "\"restored 'plyr'\""
     ]
    },
    {
     "name": "stdout",
     "output_type": "stream",
     "text": [
      "\n",
      "The downloaded binary packages are in\n",
      "\tC:\\Users\\Administrator\\AppData\\Local\\Temp\\Rtmp6xXxp0\\downloaded_packages\n",
      "package 'dplyr' successfully unpacked and MD5 sums checked\n"
     ]
    },
    {
     "name": "stderr",
     "output_type": "stream",
     "text": [
      "Warning message:\n",
      "\"cannot remove prior installation of package 'dplyr'\"Warning message in file.copy(savedcopy, lib, recursive = TRUE):\n",
      "\"problem copying C:\\ProgramData\\Anaconda3\\Lib\\R\\library\\00LOCK\\dplyr\\libs\\x64\\dplyr.dll to C:\\ProgramData\\Anaconda3\\Lib\\R\\library\\dplyr\\libs\\x64\\dplyr.dll: Permission denied\"Warning message:\n",
      "\"restored 'dplyr'\""
     ]
    },
    {
     "name": "stdout",
     "output_type": "stream",
     "text": [
      "\n",
      "The downloaded binary packages are in\n",
      "\tC:\\Users\\Administrator\\AppData\\Local\\Temp\\Rtmp6xXxp0\\downloaded_packages\n",
      "package 'ggplot2' successfully unpacked and MD5 sums checked\n",
      "\n",
      "The downloaded binary packages are in\n",
      "\tC:\\Users\\Administrator\\AppData\\Local\\Temp\\Rtmp6xXxp0\\downloaded_packages\n",
      "package 'stringr' successfully unpacked and MD5 sums checked\n",
      "\n",
      "The downloaded binary packages are in\n",
      "\tC:\\Users\\Administrator\\AppData\\Local\\Temp\\Rtmp6xXxp0\\downloaded_packages\n",
      "package 'scales' successfully unpacked and MD5 sums checked\n",
      "\n",
      "The downloaded binary packages are in\n",
      "\tC:\\Users\\Administrator\\AppData\\Local\\Temp\\Rtmp6xXxp0\\downloaded_packages\n",
      "package 'tidyr' successfully unpacked and MD5 sums checked\n"
     ]
    },
    {
     "name": "stderr",
     "output_type": "stream",
     "text": [
      "Warning message:\n",
      "\"cannot remove prior installation of package 'tidyr'\"Warning message in file.copy(savedcopy, lib, recursive = TRUE):\n",
      "\"problem copying C:\\ProgramData\\Anaconda3\\Lib\\R\\library\\00LOCK\\tidyr\\libs\\x64\\tidyr.dll to C:\\ProgramData\\Anaconda3\\Lib\\R\\library\\tidyr\\libs\\x64\\tidyr.dll: Permission denied\"Warning message:\n",
      "\"restored 'tidyr'\""
     ]
    },
    {
     "name": "stdout",
     "output_type": "stream",
     "text": [
      "\n",
      "The downloaded binary packages are in\n",
      "\tC:\\Users\\Administrator\\AppData\\Local\\Temp\\Rtmp6xXxp0\\downloaded_packages\n",
      "package 'lubridate' successfully unpacked and MD5 sums checked\n"
     ]
    },
    {
     "name": "stderr",
     "output_type": "stream",
     "text": [
      "Warning message:\n",
      "\"cannot remove prior installation of package 'lubridate'\"Warning message in file.copy(savedcopy, lib, recursive = TRUE):\n",
      "\"problem copying C:\\ProgramData\\Anaconda3\\Lib\\R\\library\\00LOCK\\lubridate\\libs\\x64\\lubridate.dll to C:\\ProgramData\\Anaconda3\\Lib\\R\\library\\lubridate\\libs\\x64\\lubridate.dll: Permission denied\"Warning message:\n",
      "\"restored 'lubridate'\""
     ]
    },
    {
     "name": "stdout",
     "output_type": "stream",
     "text": [
      "\n",
      "The downloaded binary packages are in\n",
      "\tC:\\Users\\Administrator\\AppData\\Local\\Temp\\Rtmp6xXxp0\\downloaded_packages\n",
      "package 'gridExtra' successfully unpacked and MD5 sums checked\n",
      "\n",
      "The downloaded binary packages are in\n",
      "\tC:\\Users\\Administrator\\AppData\\Local\\Temp\\Rtmp6xXxp0\\downloaded_packages\n",
      "package 'lattice' successfully unpacked and MD5 sums checked\n"
     ]
    },
    {
     "name": "stderr",
     "output_type": "stream",
     "text": [
      "Warning message:\n",
      "\"cannot remove prior installation of package 'lattice'\"Warning message in file.copy(savedcopy, lib, recursive = TRUE):\n",
      "\"problem copying C:\\ProgramData\\Anaconda3\\Lib\\R\\library\\00LOCK\\lattice\\libs\\x64\\lattice.dll to C:\\ProgramData\\Anaconda3\\Lib\\R\\library\\lattice\\libs\\x64\\lattice.dll: Permission denied\"Warning message:\n",
      "\"restored 'lattice'\""
     ]
    },
    {
     "name": "stdout",
     "output_type": "stream",
     "text": [
      "\n",
      "The downloaded binary packages are in\n",
      "\tC:\\Users\\Administrator\\AppData\\Local\\Temp\\Rtmp6xXxp0\\downloaded_packages\n",
      "package 'caret' successfully unpacked and MD5 sums checked\n"
     ]
    },
    {
     "name": "stderr",
     "output_type": "stream",
     "text": [
      "Warning message:\n",
      "\"cannot remove prior installation of package 'caret'\"Warning message in file.copy(savedcopy, lib, recursive = TRUE):\n",
      "\"problem copying C:\\ProgramData\\Anaconda3\\Lib\\R\\library\\00LOCK\\caret\\libs\\x64\\caret.dll to C:\\ProgramData\\Anaconda3\\Lib\\R\\library\\caret\\libs\\x64\\caret.dll: Permission denied\"Warning message:\n",
      "\"restored 'caret'\""
     ]
    },
    {
     "name": "stdout",
     "output_type": "stream",
     "text": [
      "\n",
      "The downloaded binary packages are in\n",
      "\tC:\\Users\\Administrator\\AppData\\Local\\Temp\\Rtmp6xXxp0\\downloaded_packages\n"
     ]
    },
    {
     "name": "stderr",
     "output_type": "stream",
     "text": [
      "Warning message:\n",
      "\"package 'grid' is not available (for R version 3.6.1)\"Warning message:\n",
      "\"package 'grid' is a base package, and should not be updated\""
     ]
    },
    {
     "name": "stdout",
     "output_type": "stream",
     "text": [
      "package 'rpart' successfully unpacked and MD5 sums checked\n"
     ]
    },
    {
     "name": "stderr",
     "output_type": "stream",
     "text": [
      "Warning message:\n",
      "\"cannot remove prior installation of package 'rpart'\"Warning message in file.copy(savedcopy, lib, recursive = TRUE):\n",
      "\"problem copying C:\\ProgramData\\Anaconda3\\Lib\\R\\library\\00LOCK\\rpart\\libs\\x64\\rpart.dll to C:\\ProgramData\\Anaconda3\\Lib\\R\\library\\rpart\\libs\\x64\\rpart.dll: Permission denied\"Warning message:\n",
      "\"restored 'rpart'\""
     ]
    },
    {
     "name": "stdout",
     "output_type": "stream",
     "text": [
      "\n",
      "The downloaded binary packages are in\n",
      "\tC:\\Users\\Administrator\\AppData\\Local\\Temp\\Rtmp6xXxp0\\downloaded_packages\n",
      "package 'rpart.plot' successfully unpacked and MD5 sums checked\n",
      "\n",
      "The downloaded binary packages are in\n",
      "\tC:\\Users\\Administrator\\AppData\\Local\\Temp\\Rtmp6xXxp0\\downloaded_packages\n",
      "package 'RColorBrewer' successfully unpacked and MD5 sums checked\n",
      "\n",
      "The downloaded binary packages are in\n",
      "\tC:\\Users\\Administrator\\AppData\\Local\\Temp\\Rtmp6xXxp0\\downloaded_packages\n"
     ]
    }
   ],
   "source": [
    "install.packages('plyr')\n",
    "install.packages('dplyr')\n",
    "install.packages('ggplot2')\n",
    "install.packages('stringr')\n",
    "install.packages('scales')\n",
    "install.packages('tidyr')\n",
    "install.packages('lubridate')\n",
    "install.packages('gridExtra')\n",
    "install.packages('lattice')\n",
    "install.packages('caret')\n",
    "install.packages('grid')\n",
    "install.packages('rpart')\n",
    "install.packages('rpart.plot')\n",
    "install.packages('RColorBrewer')\n"
   ]
  },
  {
   "cell_type": "code",
   "execution_count": 3,
   "metadata": {},
   "outputs": [
    {
     "name": "stderr",
     "output_type": "stream",
     "text": [
      "Warning message:\n",
      "\"package 'plyr' was built under R version 3.6.3\"Warning message:\n",
      "\"package 'dplyr' was built under R version 3.6.3\"\n",
      "Attaching package: 'dplyr'\n",
      "\n",
      "The following objects are masked from 'package:plyr':\n",
      "\n",
      "    arrange, count, desc, failwith, id, mutate, rename, summarise,\n",
      "    summarize\n",
      "\n",
      "The following objects are masked from 'package:stats':\n",
      "\n",
      "    filter, lag\n",
      "\n",
      "The following objects are masked from 'package:base':\n",
      "\n",
      "    intersect, setdiff, setequal, union\n",
      "\n",
      "Warning message:\n",
      "\"package 'ggplot2' was built under R version 3.6.3\"Warning message:\n",
      "\"package 'stringr' was built under R version 3.6.3\"Warning message:\n",
      "\"package 'scales' was built under R version 3.6.3\"Warning message:\n",
      "\"package 'tidyr' was built under R version 3.6.3\"Warning message:\n",
      "\"package 'lubridate' was built under R version 3.6.3\"\n",
      "Attaching package: 'lubridate'\n",
      "\n",
      "The following objects are masked from 'package:base':\n",
      "\n",
      "    date, intersect, setdiff, union\n",
      "\n",
      "Warning message:\n",
      "\"package 'gridExtra' was built under R version 3.6.3\"\n",
      "Attaching package: 'gridExtra'\n",
      "\n",
      "The following object is masked from 'package:dplyr':\n",
      "\n",
      "    combine\n",
      "\n",
      "Warning message:\n",
      "\"package 'lattice' was built under R version 3.6.3\"Warning message:\n",
      "\"package 'caret' was built under R version 3.6.3\"Warning message:\n",
      "\"package 'rpart' was built under R version 3.6.3\"Warning message:\n",
      "\"package 'rpart.plot' was built under R version 3.6.3\""
     ]
    }
   ],
   "source": [
    "library(plyr)\n",
    "library(dplyr)\n",
    "library(ggplot2)\n",
    "library(stringr)\n",
    "library(scales)\n",
    "library(tidyr)\n",
    "library(lubridate)\n",
    "library(gridExtra)\n",
    "library(grid)\n",
    "library(lattice)\n",
    "library(caret)\n",
    "library(rpart)\n",
    "library(rpart.plot)\n",
    "library(RColorBrewer)"
   ]
  },
  {
   "cell_type": "code",
   "execution_count": 4,
   "metadata": {},
   "outputs": [],
   "source": [
    "#First we read the .csv file into a dataframe called rawdata\n",
    "rawdata <- read.table(\"No-show-data.csv\", header=TRUE, sep=\",\", stringsAsFactors=TRUE)"
   ]
  },
  {
   "cell_type": "code",
   "execution_count": 5,
   "metadata": {},
   "outputs": [
    {
     "data": {
      "text/html": [
       "<table>\n",
       "<thead><tr><th scope=col>PatientId</th><th scope=col>AppointmentID</th><th scope=col>Gender</th><th scope=col>ScheduledDay</th><th scope=col>AppointmentDay</th><th scope=col>Age</th><th scope=col>Scholarship</th><th scope=col>Hipertension</th><th scope=col>Diabetes</th><th scope=col>Alcoholism</th><th scope=col>Handcap</th><th scope=col>SMS_received</th><th scope=col>No.show</th></tr></thead>\n",
       "<tbody>\n",
       "\t<tr><td>2.987250e+13        </td><td>5642903             </td><td>F                   </td><td>2016-04-29T18:38:08Z</td><td>2016-04-29T00:00:00Z</td><td>62                  </td><td>0                   </td><td>1                   </td><td>0                   </td><td>0                   </td><td>0                   </td><td>0                   </td><td>No                  </td></tr>\n",
       "\t<tr><td>5.589978e+14        </td><td>5642503             </td><td>M                   </td><td>2016-04-29T16:08:27Z</td><td>2016-04-29T00:00:00Z</td><td>56                  </td><td>0                   </td><td>0                   </td><td>0                   </td><td>0                   </td><td>0                   </td><td>0                   </td><td>No                  </td></tr>\n",
       "\t<tr><td>4.262962e+12        </td><td>5642549             </td><td>F                   </td><td>2016-04-29T16:19:04Z</td><td>2016-04-29T00:00:00Z</td><td>62                  </td><td>0                   </td><td>0                   </td><td>0                   </td><td>0                   </td><td>0                   </td><td>0                   </td><td>No                  </td></tr>\n",
       "\t<tr><td>8.679512e+11        </td><td>5642828             </td><td>F                   </td><td>2016-04-29T17:29:31Z</td><td>2016-04-29T00:00:00Z</td><td> 8                  </td><td>0                   </td><td>0                   </td><td>0                   </td><td>0                   </td><td>0                   </td><td>0                   </td><td>No                  </td></tr>\n",
       "\t<tr><td>8.841186e+12        </td><td>5642494             </td><td>F                   </td><td>2016-04-29T16:07:23Z</td><td>2016-04-29T00:00:00Z</td><td>56                  </td><td>0                   </td><td>1                   </td><td>1                   </td><td>0                   </td><td>0                   </td><td>0                   </td><td>No                  </td></tr>\n",
       "\t<tr><td>9.598513e+13        </td><td>5626772             </td><td>F                   </td><td>2016-04-27T08:36:51Z</td><td>2016-04-29T00:00:00Z</td><td>76                  </td><td>0                   </td><td>1                   </td><td>0                   </td><td>0                   </td><td>0                   </td><td>0                   </td><td>No                  </td></tr>\n",
       "\t<tr><td>7.336882e+14        </td><td>5630279             </td><td>F                   </td><td>2016-04-27T15:05:12Z</td><td>2016-04-29T00:00:00Z</td><td>23                  </td><td>0                   </td><td>0                   </td><td>0                   </td><td>0                   </td><td>0                   </td><td>0                   </td><td>Yes                 </td></tr>\n",
       "\t<tr><td>3.449833e+12        </td><td>5630575             </td><td>F                   </td><td>2016-04-27T15:39:58Z</td><td>2016-04-29T00:00:00Z</td><td>39                  </td><td>0                   </td><td>0                   </td><td>0                   </td><td>0                   </td><td>0                   </td><td>0                   </td><td>Yes                 </td></tr>\n",
       "\t<tr><td>5.639473e+13        </td><td>5638447             </td><td>F                   </td><td>2016-04-29T08:02:16Z</td><td>2016-04-29T00:00:00Z</td><td>21                  </td><td>0                   </td><td>0                   </td><td>0                   </td><td>0                   </td><td>0                   </td><td>0                   </td><td>No                  </td></tr>\n",
       "\t<tr><td>7.812456e+13        </td><td>5629123             </td><td>F                   </td><td>2016-04-27T12:48:25Z</td><td>2016-04-29T00:00:00Z</td><td>19                  </td><td>0                   </td><td>0                   </td><td>0                   </td><td>0                   </td><td>0                   </td><td>0                   </td><td>No                  </td></tr>\n",
       "\t<tr><td>7.345362e+14        </td><td>5630213             </td><td>F                   </td><td>2016-04-27T14:58:11Z</td><td>2016-04-29T00:00:00Z</td><td>30                  </td><td>0                   </td><td>0                   </td><td>0                   </td><td>0                   </td><td>0                   </td><td>0                   </td><td>No                  </td></tr>\n",
       "\t<tr><td>7.542951e+12        </td><td>5620163             </td><td>M                   </td><td>2016-04-26T08:44:12Z</td><td>2016-04-29T00:00:00Z</td><td>29                  </td><td>0                   </td><td>0                   </td><td>0                   </td><td>0                   </td><td>0                   </td><td>1                   </td><td>Yes                 </td></tr>\n",
       "\t<tr><td>5.666548e+14        </td><td>5634718             </td><td>F                   </td><td>2016-04-28T11:33:51Z</td><td>2016-04-29T00:00:00Z</td><td>22                  </td><td>1                   </td><td>0                   </td><td>0                   </td><td>0                   </td><td>0                   </td><td>0                   </td><td>No                  </td></tr>\n",
       "\t<tr><td>9.113946e+14        </td><td>5636249             </td><td>M                   </td><td>2016-04-28T14:52:07Z</td><td>2016-04-29T00:00:00Z</td><td>28                  </td><td>0                   </td><td>0                   </td><td>0                   </td><td>0                   </td><td>0                   </td><td>0                   </td><td>No                  </td></tr>\n",
       "\t<tr><td>9.988472e+13        </td><td>5633951             </td><td>F                   </td><td>2016-04-28T10:06:24Z</td><td>2016-04-29T00:00:00Z</td><td>54                  </td><td>0                   </td><td>0                   </td><td>0                   </td><td>0                   </td><td>0                   </td><td>0                   </td><td>No                  </td></tr>\n",
       "\t<tr><td>9.994839e+10        </td><td>5620206             </td><td>F                   </td><td>2016-04-26T08:47:27Z</td><td>2016-04-29T00:00:00Z</td><td>15                  </td><td>0                   </td><td>0                   </td><td>0                   </td><td>0                   </td><td>0                   </td><td>1                   </td><td>No                  </td></tr>\n",
       "\t<tr><td>8.457439e+13        </td><td>5633121             </td><td>M                   </td><td>2016-04-28T08:51:47Z</td><td>2016-04-29T00:00:00Z</td><td>50                  </td><td>0                   </td><td>0                   </td><td>0                   </td><td>0                   </td><td>0                   </td><td>0                   </td><td>No                  </td></tr>\n",
       "\t<tr><td>1.479497e+13        </td><td>5633460             </td><td>F                   </td><td>2016-04-28T09:28:57Z</td><td>2016-04-29T00:00:00Z</td><td>40                  </td><td>1                   </td><td>0                   </td><td>0                   </td><td>0                   </td><td>0                   </td><td>0                   </td><td>Yes                 </td></tr>\n",
       "\t<tr><td>1.713538e+13        </td><td>5621836             </td><td>F                   </td><td>2016-04-26T10:54:18Z</td><td>2016-04-29T00:00:00Z</td><td>30                  </td><td>1                   </td><td>0                   </td><td>0                   </td><td>0                   </td><td>0                   </td><td>1                   </td><td>No                  </td></tr>\n",
       "\t<tr><td>7.223289e+12        </td><td>5640433             </td><td>F                   </td><td>2016-04-29T10:43:14Z</td><td>2016-04-29T00:00:00Z</td><td>46                  </td><td>0                   </td><td>0                   </td><td>0                   </td><td>0                   </td><td>0                   </td><td>0                   </td><td>No                  </td></tr>\n",
       "\t<tr><td>6.222575e+14        </td><td>5626083             </td><td>F                   </td><td>2016-04-27T07:51:14Z</td><td>2016-04-29T00:00:00Z</td><td>30                  </td><td>0                   </td><td>0                   </td><td>0                   </td><td>0                   </td><td>0                   </td><td>0                   </td><td>Yes                 </td></tr>\n",
       "\t<tr><td>1.215484e+13        </td><td>5628338             </td><td>F                   </td><td>2016-04-27T10:50:45Z</td><td>2016-04-29T00:00:00Z</td><td> 4                  </td><td>0                   </td><td>0                   </td><td>0                   </td><td>0                   </td><td>0                   </td><td>0                   </td><td>Yes                 </td></tr>\n",
       "\t<tr><td>8.632298e+14        </td><td>5616091             </td><td>M                   </td><td>2016-04-25T13:29:16Z</td><td>2016-04-29T00:00:00Z</td><td>13                  </td><td>0                   </td><td>0                   </td><td>0                   </td><td>0                   </td><td>0                   </td><td>1                   </td><td>Yes                 </td></tr>\n",
       "\t<tr><td>2.137540e+14        </td><td>5634142             </td><td>F                   </td><td>2016-04-28T10:27:05Z</td><td>2016-04-29T00:00:00Z</td><td>46                  </td><td>0                   </td><td>0                   </td><td>0                   </td><td>0                   </td><td>0                   </td><td>0                   </td><td>No                  </td></tr>\n",
       "\t<tr><td>8.734858e+12        </td><td>5641780             </td><td>F                   </td><td>2016-04-29T14:19:19Z</td><td>2016-04-29T00:00:00Z</td><td>65                  </td><td>0                   </td><td>0                   </td><td>0                   </td><td>0                   </td><td>0                   </td><td>0                   </td><td>No                  </td></tr>\n",
       "\t<tr><td>5.819370e+12        </td><td>5624020             </td><td>M                   </td><td>2016-04-26T15:04:17Z</td><td>2016-04-29T00:00:00Z</td><td>46                  </td><td>0                   </td><td>1                   </td><td>0                   </td><td>0                   </td><td>0                   </td><td>1                   </td><td>No                  </td></tr>\n",
       "\t<tr><td>2.578785e+10        </td><td>5641781             </td><td>F                   </td><td>2016-04-29T14:19:42Z</td><td>2016-04-29T00:00:00Z</td><td>45                  </td><td>0                   </td><td>1                   </td><td>0                   </td><td>0                   </td><td>0                   </td><td>0                   </td><td>No                  </td></tr>\n",
       "\t<tr><td>1.215484e+13        </td><td>5628345             </td><td>F                   </td><td>2016-04-27T10:51:45Z</td><td>2016-04-29T00:00:00Z</td><td> 4                  </td><td>0                   </td><td>0                   </td><td>0                   </td><td>0                   </td><td>0                   </td><td>0                   </td><td>No                  </td></tr>\n",
       "\t<tr><td>5.926172e+12        </td><td>5642400             </td><td>M                   </td><td>2016-04-29T15:48:02Z</td><td>2016-04-29T00:00:00Z</td><td>51                  </td><td>0                   </td><td>0                   </td><td>0                   </td><td>0                   </td><td>0                   </td><td>0                   </td><td>No                  </td></tr>\n",
       "\t<tr><td>1.225776e+12        </td><td>5642186             </td><td>F                   </td><td>2016-04-29T15:16:29Z</td><td>2016-04-29T00:00:00Z</td><td>32                  </td><td>0                   </td><td>0                   </td><td>0                   </td><td>0                   </td><td>0                   </td><td>0                   </td><td>No                  </td></tr>\n",
       "\t<tr><td>...</td><td>...</td><td>...</td><td>...</td><td>...</td><td>...</td><td>...</td><td>...</td><td>...</td><td>...</td><td>...</td><td>...</td><td>...</td></tr>\n",
       "\t<tr><td>7.935892e+14        </td><td>5757745             </td><td>M                   </td><td>2016-06-01T09:46:33Z</td><td>2016-06-01T00:00:00Z</td><td>76                  </td><td>0                   </td><td>0                   </td><td>0                   </td><td>0                   </td><td>0                   </td><td>0                   </td><td>No                  </td></tr>\n",
       "\t<tr><td>9.433654e+13        </td><td>5787655             </td><td>F                   </td><td>2016-06-08T10:21:14Z</td><td>2016-06-08T00:00:00Z</td><td>59                  </td><td>0                   </td><td>0                   </td><td>0                   </td><td>0                   </td><td>0                   </td><td>0                   </td><td>No                  </td></tr>\n",
       "\t<tr><td>8.219692e+14        </td><td>5757697             </td><td>F                   </td><td>2016-06-01T09:42:56Z</td><td>2016-06-01T00:00:00Z</td><td>66                  </td><td>0                   </td><td>1                   </td><td>1                   </td><td>0                   </td><td>0                   </td><td>0                   </td><td>No                  </td></tr>\n",
       "\t<tr><td>4.434384e+14        </td><td>5787233             </td><td>F                   </td><td>2016-06-08T09:35:13Z</td><td>2016-06-08T00:00:00Z</td><td>59                  </td><td>0                   </td><td>0                   </td><td>0                   </td><td>0                   </td><td>0                   </td><td>0                   </td><td>No                  </td></tr>\n",
       "\t<tr><td>4.544252e+11        </td><td>5758133             </td><td>M                   </td><td>2016-06-01T10:19:12Z</td><td>2016-06-01T00:00:00Z</td><td>44                  </td><td>0                   </td><td>0                   </td><td>0                   </td><td>0                   </td><td>0                   </td><td>0                   </td><td>No                  </td></tr>\n",
       "\t<tr><td>7.316229e+14        </td><td>5787937             </td><td>F                   </td><td>2016-06-08T10:50:42Z</td><td>2016-06-08T00:00:00Z</td><td>22                  </td><td>0                   </td><td>0                   </td><td>0                   </td><td>0                   </td><td>0                   </td><td>0                   </td><td>No                  </td></tr>\n",
       "\t<tr><td>2.362182e+13        </td><td>5759473             </td><td>F                   </td><td>2016-06-01T13:00:36Z</td><td>2016-06-01T00:00:00Z</td><td>64                  </td><td>0                   </td><td>0                   </td><td>0                   </td><td>0                   </td><td>0                   </td><td>0                   </td><td>No                  </td></tr>\n",
       "\t<tr><td>9.947983e+12        </td><td>5788052             </td><td>F                   </td><td>2016-06-08T11:06:21Z</td><td>2016-06-08T00:00:00Z</td><td> 4                  </td><td>0                   </td><td>0                   </td><td>0                   </td><td>0                   </td><td>0                   </td><td>0                   </td><td>No                  </td></tr>\n",
       "\t<tr><td>5.667344e+13        </td><td>5758455             </td><td>F                   </td><td>2016-06-01T10:45:50Z</td><td>2016-06-01T00:00:00Z</td><td>55                  </td><td>0                   </td><td>0                   </td><td>0                   </td><td>0                   </td><td>0                   </td><td>0                   </td><td>No                  </td></tr>\n",
       "\t<tr><td>8.973883e+11        </td><td>5758779             </td><td>M                   </td><td>2016-06-01T11:09:20Z</td><td>2016-06-01T00:00:00Z</td><td> 5                  </td><td>0                   </td><td>0                   </td><td>0                   </td><td>0                   </td><td>0                   </td><td>0                   </td><td>No                  </td></tr>\n",
       "\t<tr><td>4.769462e+14        </td><td>5786918             </td><td>F                   </td><td>2016-06-08T09:04:18Z</td><td>2016-06-08T00:00:00Z</td><td> 0                  </td><td>0                   </td><td>0                   </td><td>0                   </td><td>0                   </td><td>0                   </td><td>0                   </td><td>No                  </td></tr>\n",
       "\t<tr><td>9.433654e+13        </td><td>5757656             </td><td>F                   </td><td>2016-06-01T09:41:00Z</td><td>2016-06-01T00:00:00Z</td><td>59                  </td><td>0                   </td><td>0                   </td><td>0                   </td><td>0                   </td><td>0                   </td><td>0                   </td><td>No                  </td></tr>\n",
       "\t<tr><td>4.952968e+14        </td><td>5786750             </td><td>M                   </td><td>2016-06-08T08:50:51Z</td><td>2016-06-08T00:00:00Z</td><td>33                  </td><td>0                   </td><td>0                   </td><td>0                   </td><td>0                   </td><td>0                   </td><td>0                   </td><td>No                  </td></tr>\n",
       "\t<tr><td>2.362182e+13        </td><td>5757587             </td><td>F                   </td><td>2016-06-01T09:35:48Z</td><td>2016-06-01T00:00:00Z</td><td>64                  </td><td>0                   </td><td>0                   </td><td>0                   </td><td>0                   </td><td>0                   </td><td>0                   </td><td>No                  </td></tr>\n",
       "\t<tr><td>8.235996e+11        </td><td>5786742             </td><td>F                   </td><td>2016-06-08T08:50:20Z</td><td>2016-06-08T00:00:00Z</td><td>14                  </td><td>0                   </td><td>0                   </td><td>0                   </td><td>0                   </td><td>0                   </td><td>0                   </td><td>No                  </td></tr>\n",
       "\t<tr><td>9.876246e+13        </td><td>5786368             </td><td>F                   </td><td>2016-06-08T08:20:01Z</td><td>2016-06-08T00:00:00Z</td><td>41                  </td><td>0                   </td><td>0                   </td><td>0                   </td><td>0                   </td><td>0                   </td><td>0                   </td><td>No                  </td></tr>\n",
       "\t<tr><td>8.674778e+13        </td><td>5785964             </td><td>M                   </td><td>2016-06-08T07:52:55Z</td><td>2016-06-08T00:00:00Z</td><td> 2                  </td><td>0                   </td><td>0                   </td><td>0                   </td><td>0                   </td><td>0                   </td><td>0                   </td><td>No                  </td></tr>\n",
       "\t<tr><td>2.695685e+12        </td><td>5786567             </td><td>F                   </td><td>2016-06-08T08:35:31Z</td><td>2016-06-08T00:00:00Z</td><td>58                  </td><td>0                   </td><td>0                   </td><td>0                   </td><td>0                   </td><td>0                   </td><td>0                   </td><td>No                  </td></tr>\n",
       "\t<tr><td>6.456342e+14        </td><td>5778621             </td><td>M                   </td><td>2016-06-06T15:58:05Z</td><td>2016-06-08T00:00:00Z</td><td>33                  </td><td>0                   </td><td>1                   </td><td>0                   </td><td>0                   </td><td>0                   </td><td>0                   </td><td>Yes                 </td></tr>\n",
       "\t<tr><td>6.923772e+13        </td><td>5780205             </td><td>F                   </td><td>2016-06-07T07:45:16Z</td><td>2016-06-08T00:00:00Z</td><td>37                  </td><td>0                   </td><td>0                   </td><td>0                   </td><td>0                   </td><td>0                   </td><td>0                   </td><td>Yes                 </td></tr>\n",
       "\t<tr><td>5.574942e+12        </td><td>5780122             </td><td>F                   </td><td>2016-06-07T07:38:34Z</td><td>2016-06-07T00:00:00Z</td><td>19                  </td><td>0                   </td><td>0                   </td><td>0                   </td><td>0                   </td><td>0                   </td><td>0                   </td><td>No                  </td></tr>\n",
       "\t<tr><td>7.263315e+13        </td><td>5630375             </td><td>F                   </td><td>2016-04-27T15:15:06Z</td><td>2016-06-07T00:00:00Z</td><td>50                  </td><td>0                   </td><td>0                   </td><td>0                   </td><td>0                   </td><td>0                   </td><td>1                   </td><td>No                  </td></tr>\n",
       "\t<tr><td>6.542388e+13        </td><td>5630447             </td><td>F                   </td><td>2016-04-27T15:23:14Z</td><td>2016-06-07T00:00:00Z</td><td>22                  </td><td>0                   </td><td>0                   </td><td>0                   </td><td>0                   </td><td>0                   </td><td>1                   </td><td>No                  </td></tr>\n",
       "\t<tr><td>9.969977e+14        </td><td>5650534             </td><td>F                   </td><td>2016-05-03T07:51:47Z</td><td>2016-06-07T00:00:00Z</td><td>42                  </td><td>0                   </td><td>0                   </td><td>0                   </td><td>0                   </td><td>0                   </td><td>1                   </td><td>No                  </td></tr>\n",
       "\t<tr><td>3.635534e+13        </td><td>5651072             </td><td>F                   </td><td>2016-05-03T08:23:40Z</td><td>2016-06-07T00:00:00Z</td><td>53                  </td><td>0                   </td><td>0                   </td><td>0                   </td><td>0                   </td><td>0                   </td><td>1                   </td><td>No                  </td></tr>\n",
       "\t<tr><td>2.572134e+12        </td><td>5651768             </td><td>F                   </td><td>2016-05-03T09:15:35Z</td><td>2016-06-07T00:00:00Z</td><td>56                  </td><td>0                   </td><td>0                   </td><td>0                   </td><td>0                   </td><td>0                   </td><td>1                   </td><td>No                  </td></tr>\n",
       "\t<tr><td>3.596266e+12        </td><td>5650093             </td><td>F                   </td><td>2016-05-03T07:27:33Z</td><td>2016-06-07T00:00:00Z</td><td>51                  </td><td>0                   </td><td>0                   </td><td>0                   </td><td>0                   </td><td>0                   </td><td>1                   </td><td>No                  </td></tr>\n",
       "\t<tr><td>1.557663e+13        </td><td>5630692             </td><td>F                   </td><td>2016-04-27T16:03:52Z</td><td>2016-06-07T00:00:00Z</td><td>21                  </td><td>0                   </td><td>0                   </td><td>0                   </td><td>0                   </td><td>0                   </td><td>1                   </td><td>No                  </td></tr>\n",
       "\t<tr><td>9.213493e+13        </td><td>5630323             </td><td>F                   </td><td>2016-04-27T15:09:23Z</td><td>2016-06-07T00:00:00Z</td><td>38                  </td><td>0                   </td><td>0                   </td><td>0                   </td><td>0                   </td><td>0                   </td><td>1                   </td><td>No                  </td></tr>\n",
       "\t<tr><td>3.775115e+14        </td><td>5629448             </td><td>F                   </td><td>2016-04-27T13:30:56Z</td><td>2016-06-07T00:00:00Z</td><td>54                  </td><td>0                   </td><td>0                   </td><td>0                   </td><td>0                   </td><td>0                   </td><td>1                   </td><td>No                  </td></tr>\n",
       "</tbody>\n",
       "</table>\n"
      ],
      "text/latex": [
       "\\begin{tabular}{r|lllllllllllll}\n",
       " PatientId & AppointmentID & Gender & ScheduledDay & AppointmentDay & Age & Scholarship & Hipertension & Diabetes & Alcoholism & Handcap & SMS\\_received & No.show\\\\\n",
       "\\hline\n",
       "\t 2.987250e+13         & 5642903              & F                    & 2016-04-29T18:38:08Z & 2016-04-29T00:00:00Z & 62                   & 0                    & 1                    & 0                    & 0                    & 0                    & 0                    & No                  \\\\\n",
       "\t 5.589978e+14         & 5642503              & M                    & 2016-04-29T16:08:27Z & 2016-04-29T00:00:00Z & 56                   & 0                    & 0                    & 0                    & 0                    & 0                    & 0                    & No                  \\\\\n",
       "\t 4.262962e+12         & 5642549              & F                    & 2016-04-29T16:19:04Z & 2016-04-29T00:00:00Z & 62                   & 0                    & 0                    & 0                    & 0                    & 0                    & 0                    & No                  \\\\\n",
       "\t 8.679512e+11         & 5642828              & F                    & 2016-04-29T17:29:31Z & 2016-04-29T00:00:00Z &  8                   & 0                    & 0                    & 0                    & 0                    & 0                    & 0                    & No                  \\\\\n",
       "\t 8.841186e+12         & 5642494              & F                    & 2016-04-29T16:07:23Z & 2016-04-29T00:00:00Z & 56                   & 0                    & 1                    & 1                    & 0                    & 0                    & 0                    & No                  \\\\\n",
       "\t 9.598513e+13         & 5626772              & F                    & 2016-04-27T08:36:51Z & 2016-04-29T00:00:00Z & 76                   & 0                    & 1                    & 0                    & 0                    & 0                    & 0                    & No                  \\\\\n",
       "\t 7.336882e+14         & 5630279              & F                    & 2016-04-27T15:05:12Z & 2016-04-29T00:00:00Z & 23                   & 0                    & 0                    & 0                    & 0                    & 0                    & 0                    & Yes                 \\\\\n",
       "\t 3.449833e+12         & 5630575              & F                    & 2016-04-27T15:39:58Z & 2016-04-29T00:00:00Z & 39                   & 0                    & 0                    & 0                    & 0                    & 0                    & 0                    & Yes                 \\\\\n",
       "\t 5.639473e+13         & 5638447              & F                    & 2016-04-29T08:02:16Z & 2016-04-29T00:00:00Z & 21                   & 0                    & 0                    & 0                    & 0                    & 0                    & 0                    & No                  \\\\\n",
       "\t 7.812456e+13         & 5629123              & F                    & 2016-04-27T12:48:25Z & 2016-04-29T00:00:00Z & 19                   & 0                    & 0                    & 0                    & 0                    & 0                    & 0                    & No                  \\\\\n",
       "\t 7.345362e+14         & 5630213              & F                    & 2016-04-27T14:58:11Z & 2016-04-29T00:00:00Z & 30                   & 0                    & 0                    & 0                    & 0                    & 0                    & 0                    & No                  \\\\\n",
       "\t 7.542951e+12         & 5620163              & M                    & 2016-04-26T08:44:12Z & 2016-04-29T00:00:00Z & 29                   & 0                    & 0                    & 0                    & 0                    & 0                    & 1                    & Yes                 \\\\\n",
       "\t 5.666548e+14         & 5634718              & F                    & 2016-04-28T11:33:51Z & 2016-04-29T00:00:00Z & 22                   & 1                    & 0                    & 0                    & 0                    & 0                    & 0                    & No                  \\\\\n",
       "\t 9.113946e+14         & 5636249              & M                    & 2016-04-28T14:52:07Z & 2016-04-29T00:00:00Z & 28                   & 0                    & 0                    & 0                    & 0                    & 0                    & 0                    & No                  \\\\\n",
       "\t 9.988472e+13         & 5633951              & F                    & 2016-04-28T10:06:24Z & 2016-04-29T00:00:00Z & 54                   & 0                    & 0                    & 0                    & 0                    & 0                    & 0                    & No                  \\\\\n",
       "\t 9.994839e+10         & 5620206              & F                    & 2016-04-26T08:47:27Z & 2016-04-29T00:00:00Z & 15                   & 0                    & 0                    & 0                    & 0                    & 0                    & 1                    & No                  \\\\\n",
       "\t 8.457439e+13         & 5633121              & M                    & 2016-04-28T08:51:47Z & 2016-04-29T00:00:00Z & 50                   & 0                    & 0                    & 0                    & 0                    & 0                    & 0                    & No                  \\\\\n",
       "\t 1.479497e+13         & 5633460              & F                    & 2016-04-28T09:28:57Z & 2016-04-29T00:00:00Z & 40                   & 1                    & 0                    & 0                    & 0                    & 0                    & 0                    & Yes                 \\\\\n",
       "\t 1.713538e+13         & 5621836              & F                    & 2016-04-26T10:54:18Z & 2016-04-29T00:00:00Z & 30                   & 1                    & 0                    & 0                    & 0                    & 0                    & 1                    & No                  \\\\\n",
       "\t 7.223289e+12         & 5640433              & F                    & 2016-04-29T10:43:14Z & 2016-04-29T00:00:00Z & 46                   & 0                    & 0                    & 0                    & 0                    & 0                    & 0                    & No                  \\\\\n",
       "\t 6.222575e+14         & 5626083              & F                    & 2016-04-27T07:51:14Z & 2016-04-29T00:00:00Z & 30                   & 0                    & 0                    & 0                    & 0                    & 0                    & 0                    & Yes                 \\\\\n",
       "\t 1.215484e+13         & 5628338              & F                    & 2016-04-27T10:50:45Z & 2016-04-29T00:00:00Z &  4                   & 0                    & 0                    & 0                    & 0                    & 0                    & 0                    & Yes                 \\\\\n",
       "\t 8.632298e+14         & 5616091              & M                    & 2016-04-25T13:29:16Z & 2016-04-29T00:00:00Z & 13                   & 0                    & 0                    & 0                    & 0                    & 0                    & 1                    & Yes                 \\\\\n",
       "\t 2.137540e+14         & 5634142              & F                    & 2016-04-28T10:27:05Z & 2016-04-29T00:00:00Z & 46                   & 0                    & 0                    & 0                    & 0                    & 0                    & 0                    & No                  \\\\\n",
       "\t 8.734858e+12         & 5641780              & F                    & 2016-04-29T14:19:19Z & 2016-04-29T00:00:00Z & 65                   & 0                    & 0                    & 0                    & 0                    & 0                    & 0                    & No                  \\\\\n",
       "\t 5.819370e+12         & 5624020              & M                    & 2016-04-26T15:04:17Z & 2016-04-29T00:00:00Z & 46                   & 0                    & 1                    & 0                    & 0                    & 0                    & 1                    & No                  \\\\\n",
       "\t 2.578785e+10         & 5641781              & F                    & 2016-04-29T14:19:42Z & 2016-04-29T00:00:00Z & 45                   & 0                    & 1                    & 0                    & 0                    & 0                    & 0                    & No                  \\\\\n",
       "\t 1.215484e+13         & 5628345              & F                    & 2016-04-27T10:51:45Z & 2016-04-29T00:00:00Z &  4                   & 0                    & 0                    & 0                    & 0                    & 0                    & 0                    & No                  \\\\\n",
       "\t 5.926172e+12         & 5642400              & M                    & 2016-04-29T15:48:02Z & 2016-04-29T00:00:00Z & 51                   & 0                    & 0                    & 0                    & 0                    & 0                    & 0                    & No                  \\\\\n",
       "\t 1.225776e+12         & 5642186              & F                    & 2016-04-29T15:16:29Z & 2016-04-29T00:00:00Z & 32                   & 0                    & 0                    & 0                    & 0                    & 0                    & 0                    & No                  \\\\\n",
       "\t ... & ... & ... & ... & ... & ... & ... & ... & ... & ... & ... & ... & ...\\\\\n",
       "\t 7.935892e+14         & 5757745              & M                    & 2016-06-01T09:46:33Z & 2016-06-01T00:00:00Z & 76                   & 0                    & 0                    & 0                    & 0                    & 0                    & 0                    & No                  \\\\\n",
       "\t 9.433654e+13         & 5787655              & F                    & 2016-06-08T10:21:14Z & 2016-06-08T00:00:00Z & 59                   & 0                    & 0                    & 0                    & 0                    & 0                    & 0                    & No                  \\\\\n",
       "\t 8.219692e+14         & 5757697              & F                    & 2016-06-01T09:42:56Z & 2016-06-01T00:00:00Z & 66                   & 0                    & 1                    & 1                    & 0                    & 0                    & 0                    & No                  \\\\\n",
       "\t 4.434384e+14         & 5787233              & F                    & 2016-06-08T09:35:13Z & 2016-06-08T00:00:00Z & 59                   & 0                    & 0                    & 0                    & 0                    & 0                    & 0                    & No                  \\\\\n",
       "\t 4.544252e+11         & 5758133              & M                    & 2016-06-01T10:19:12Z & 2016-06-01T00:00:00Z & 44                   & 0                    & 0                    & 0                    & 0                    & 0                    & 0                    & No                  \\\\\n",
       "\t 7.316229e+14         & 5787937              & F                    & 2016-06-08T10:50:42Z & 2016-06-08T00:00:00Z & 22                   & 0                    & 0                    & 0                    & 0                    & 0                    & 0                    & No                  \\\\\n",
       "\t 2.362182e+13         & 5759473              & F                    & 2016-06-01T13:00:36Z & 2016-06-01T00:00:00Z & 64                   & 0                    & 0                    & 0                    & 0                    & 0                    & 0                    & No                  \\\\\n",
       "\t 9.947983e+12         & 5788052              & F                    & 2016-06-08T11:06:21Z & 2016-06-08T00:00:00Z &  4                   & 0                    & 0                    & 0                    & 0                    & 0                    & 0                    & No                  \\\\\n",
       "\t 5.667344e+13         & 5758455              & F                    & 2016-06-01T10:45:50Z & 2016-06-01T00:00:00Z & 55                   & 0                    & 0                    & 0                    & 0                    & 0                    & 0                    & No                  \\\\\n",
       "\t 8.973883e+11         & 5758779              & M                    & 2016-06-01T11:09:20Z & 2016-06-01T00:00:00Z &  5                   & 0                    & 0                    & 0                    & 0                    & 0                    & 0                    & No                  \\\\\n",
       "\t 4.769462e+14         & 5786918              & F                    & 2016-06-08T09:04:18Z & 2016-06-08T00:00:00Z &  0                   & 0                    & 0                    & 0                    & 0                    & 0                    & 0                    & No                  \\\\\n",
       "\t 9.433654e+13         & 5757656              & F                    & 2016-06-01T09:41:00Z & 2016-06-01T00:00:00Z & 59                   & 0                    & 0                    & 0                    & 0                    & 0                    & 0                    & No                  \\\\\n",
       "\t 4.952968e+14         & 5786750              & M                    & 2016-06-08T08:50:51Z & 2016-06-08T00:00:00Z & 33                   & 0                    & 0                    & 0                    & 0                    & 0                    & 0                    & No                  \\\\\n",
       "\t 2.362182e+13         & 5757587              & F                    & 2016-06-01T09:35:48Z & 2016-06-01T00:00:00Z & 64                   & 0                    & 0                    & 0                    & 0                    & 0                    & 0                    & No                  \\\\\n",
       "\t 8.235996e+11         & 5786742              & F                    & 2016-06-08T08:50:20Z & 2016-06-08T00:00:00Z & 14                   & 0                    & 0                    & 0                    & 0                    & 0                    & 0                    & No                  \\\\\n",
       "\t 9.876246e+13         & 5786368              & F                    & 2016-06-08T08:20:01Z & 2016-06-08T00:00:00Z & 41                   & 0                    & 0                    & 0                    & 0                    & 0                    & 0                    & No                  \\\\\n",
       "\t 8.674778e+13         & 5785964              & M                    & 2016-06-08T07:52:55Z & 2016-06-08T00:00:00Z &  2                   & 0                    & 0                    & 0                    & 0                    & 0                    & 0                    & No                  \\\\\n",
       "\t 2.695685e+12         & 5786567              & F                    & 2016-06-08T08:35:31Z & 2016-06-08T00:00:00Z & 58                   & 0                    & 0                    & 0                    & 0                    & 0                    & 0                    & No                  \\\\\n",
       "\t 6.456342e+14         & 5778621              & M                    & 2016-06-06T15:58:05Z & 2016-06-08T00:00:00Z & 33                   & 0                    & 1                    & 0                    & 0                    & 0                    & 0                    & Yes                 \\\\\n",
       "\t 6.923772e+13         & 5780205              & F                    & 2016-06-07T07:45:16Z & 2016-06-08T00:00:00Z & 37                   & 0                    & 0                    & 0                    & 0                    & 0                    & 0                    & Yes                 \\\\\n",
       "\t 5.574942e+12         & 5780122              & F                    & 2016-06-07T07:38:34Z & 2016-06-07T00:00:00Z & 19                   & 0                    & 0                    & 0                    & 0                    & 0                    & 0                    & No                  \\\\\n",
       "\t 7.263315e+13         & 5630375              & F                    & 2016-04-27T15:15:06Z & 2016-06-07T00:00:00Z & 50                   & 0                    & 0                    & 0                    & 0                    & 0                    & 1                    & No                  \\\\\n",
       "\t 6.542388e+13         & 5630447              & F                    & 2016-04-27T15:23:14Z & 2016-06-07T00:00:00Z & 22                   & 0                    & 0                    & 0                    & 0                    & 0                    & 1                    & No                  \\\\\n",
       "\t 9.969977e+14         & 5650534              & F                    & 2016-05-03T07:51:47Z & 2016-06-07T00:00:00Z & 42                   & 0                    & 0                    & 0                    & 0                    & 0                    & 1                    & No                  \\\\\n",
       "\t 3.635534e+13         & 5651072              & F                    & 2016-05-03T08:23:40Z & 2016-06-07T00:00:00Z & 53                   & 0                    & 0                    & 0                    & 0                    & 0                    & 1                    & No                  \\\\\n",
       "\t 2.572134e+12         & 5651768              & F                    & 2016-05-03T09:15:35Z & 2016-06-07T00:00:00Z & 56                   & 0                    & 0                    & 0                    & 0                    & 0                    & 1                    & No                  \\\\\n",
       "\t 3.596266e+12         & 5650093              & F                    & 2016-05-03T07:27:33Z & 2016-06-07T00:00:00Z & 51                   & 0                    & 0                    & 0                    & 0                    & 0                    & 1                    & No                  \\\\\n",
       "\t 1.557663e+13         & 5630692              & F                    & 2016-04-27T16:03:52Z & 2016-06-07T00:00:00Z & 21                   & 0                    & 0                    & 0                    & 0                    & 0                    & 1                    & No                  \\\\\n",
       "\t 9.213493e+13         & 5630323              & F                    & 2016-04-27T15:09:23Z & 2016-06-07T00:00:00Z & 38                   & 0                    & 0                    & 0                    & 0                    & 0                    & 1                    & No                  \\\\\n",
       "\t 3.775115e+14         & 5629448              & F                    & 2016-04-27T13:30:56Z & 2016-06-07T00:00:00Z & 54                   & 0                    & 0                    & 0                    & 0                    & 0                    & 1                    & No                  \\\\\n",
       "\\end{tabular}\n"
      ],
      "text/markdown": [
       "\n",
       "| PatientId | AppointmentID | Gender | ScheduledDay | AppointmentDay | Age | Scholarship | Hipertension | Diabetes | Alcoholism | Handcap | SMS_received | No.show |\n",
       "|---|---|---|---|---|---|---|---|---|---|---|---|---|\n",
       "| 2.987250e+13         | 5642903              | F                    | 2016-04-29T18:38:08Z | 2016-04-29T00:00:00Z | 62                   | 0                    | 1                    | 0                    | 0                    | 0                    | 0                    | No                   |\n",
       "| 5.589978e+14         | 5642503              | M                    | 2016-04-29T16:08:27Z | 2016-04-29T00:00:00Z | 56                   | 0                    | 0                    | 0                    | 0                    | 0                    | 0                    | No                   |\n",
       "| 4.262962e+12         | 5642549              | F                    | 2016-04-29T16:19:04Z | 2016-04-29T00:00:00Z | 62                   | 0                    | 0                    | 0                    | 0                    | 0                    | 0                    | No                   |\n",
       "| 8.679512e+11         | 5642828              | F                    | 2016-04-29T17:29:31Z | 2016-04-29T00:00:00Z |  8                   | 0                    | 0                    | 0                    | 0                    | 0                    | 0                    | No                   |\n",
       "| 8.841186e+12         | 5642494              | F                    | 2016-04-29T16:07:23Z | 2016-04-29T00:00:00Z | 56                   | 0                    | 1                    | 1                    | 0                    | 0                    | 0                    | No                   |\n",
       "| 9.598513e+13         | 5626772              | F                    | 2016-04-27T08:36:51Z | 2016-04-29T00:00:00Z | 76                   | 0                    | 1                    | 0                    | 0                    | 0                    | 0                    | No                   |\n",
       "| 7.336882e+14         | 5630279              | F                    | 2016-04-27T15:05:12Z | 2016-04-29T00:00:00Z | 23                   | 0                    | 0                    | 0                    | 0                    | 0                    | 0                    | Yes                  |\n",
       "| 3.449833e+12         | 5630575              | F                    | 2016-04-27T15:39:58Z | 2016-04-29T00:00:00Z | 39                   | 0                    | 0                    | 0                    | 0                    | 0                    | 0                    | Yes                  |\n",
       "| 5.639473e+13         | 5638447              | F                    | 2016-04-29T08:02:16Z | 2016-04-29T00:00:00Z | 21                   | 0                    | 0                    | 0                    | 0                    | 0                    | 0                    | No                   |\n",
       "| 7.812456e+13         | 5629123              | F                    | 2016-04-27T12:48:25Z | 2016-04-29T00:00:00Z | 19                   | 0                    | 0                    | 0                    | 0                    | 0                    | 0                    | No                   |\n",
       "| 7.345362e+14         | 5630213              | F                    | 2016-04-27T14:58:11Z | 2016-04-29T00:00:00Z | 30                   | 0                    | 0                    | 0                    | 0                    | 0                    | 0                    | No                   |\n",
       "| 7.542951e+12         | 5620163              | M                    | 2016-04-26T08:44:12Z | 2016-04-29T00:00:00Z | 29                   | 0                    | 0                    | 0                    | 0                    | 0                    | 1                    | Yes                  |\n",
       "| 5.666548e+14         | 5634718              | F                    | 2016-04-28T11:33:51Z | 2016-04-29T00:00:00Z | 22                   | 1                    | 0                    | 0                    | 0                    | 0                    | 0                    | No                   |\n",
       "| 9.113946e+14         | 5636249              | M                    | 2016-04-28T14:52:07Z | 2016-04-29T00:00:00Z | 28                   | 0                    | 0                    | 0                    | 0                    | 0                    | 0                    | No                   |\n",
       "| 9.988472e+13         | 5633951              | F                    | 2016-04-28T10:06:24Z | 2016-04-29T00:00:00Z | 54                   | 0                    | 0                    | 0                    | 0                    | 0                    | 0                    | No                   |\n",
       "| 9.994839e+10         | 5620206              | F                    | 2016-04-26T08:47:27Z | 2016-04-29T00:00:00Z | 15                   | 0                    | 0                    | 0                    | 0                    | 0                    | 1                    | No                   |\n",
       "| 8.457439e+13         | 5633121              | M                    | 2016-04-28T08:51:47Z | 2016-04-29T00:00:00Z | 50                   | 0                    | 0                    | 0                    | 0                    | 0                    | 0                    | No                   |\n",
       "| 1.479497e+13         | 5633460              | F                    | 2016-04-28T09:28:57Z | 2016-04-29T00:00:00Z | 40                   | 1                    | 0                    | 0                    | 0                    | 0                    | 0                    | Yes                  |\n",
       "| 1.713538e+13         | 5621836              | F                    | 2016-04-26T10:54:18Z | 2016-04-29T00:00:00Z | 30                   | 1                    | 0                    | 0                    | 0                    | 0                    | 1                    | No                   |\n",
       "| 7.223289e+12         | 5640433              | F                    | 2016-04-29T10:43:14Z | 2016-04-29T00:00:00Z | 46                   | 0                    | 0                    | 0                    | 0                    | 0                    | 0                    | No                   |\n",
       "| 6.222575e+14         | 5626083              | F                    | 2016-04-27T07:51:14Z | 2016-04-29T00:00:00Z | 30                   | 0                    | 0                    | 0                    | 0                    | 0                    | 0                    | Yes                  |\n",
       "| 1.215484e+13         | 5628338              | F                    | 2016-04-27T10:50:45Z | 2016-04-29T00:00:00Z |  4                   | 0                    | 0                    | 0                    | 0                    | 0                    | 0                    | Yes                  |\n",
       "| 8.632298e+14         | 5616091              | M                    | 2016-04-25T13:29:16Z | 2016-04-29T00:00:00Z | 13                   | 0                    | 0                    | 0                    | 0                    | 0                    | 1                    | Yes                  |\n",
       "| 2.137540e+14         | 5634142              | F                    | 2016-04-28T10:27:05Z | 2016-04-29T00:00:00Z | 46                   | 0                    | 0                    | 0                    | 0                    | 0                    | 0                    | No                   |\n",
       "| 8.734858e+12         | 5641780              | F                    | 2016-04-29T14:19:19Z | 2016-04-29T00:00:00Z | 65                   | 0                    | 0                    | 0                    | 0                    | 0                    | 0                    | No                   |\n",
       "| 5.819370e+12         | 5624020              | M                    | 2016-04-26T15:04:17Z | 2016-04-29T00:00:00Z | 46                   | 0                    | 1                    | 0                    | 0                    | 0                    | 1                    | No                   |\n",
       "| 2.578785e+10         | 5641781              | F                    | 2016-04-29T14:19:42Z | 2016-04-29T00:00:00Z | 45                   | 0                    | 1                    | 0                    | 0                    | 0                    | 0                    | No                   |\n",
       "| 1.215484e+13         | 5628345              | F                    | 2016-04-27T10:51:45Z | 2016-04-29T00:00:00Z |  4                   | 0                    | 0                    | 0                    | 0                    | 0                    | 0                    | No                   |\n",
       "| 5.926172e+12         | 5642400              | M                    | 2016-04-29T15:48:02Z | 2016-04-29T00:00:00Z | 51                   | 0                    | 0                    | 0                    | 0                    | 0                    | 0                    | No                   |\n",
       "| 1.225776e+12         | 5642186              | F                    | 2016-04-29T15:16:29Z | 2016-04-29T00:00:00Z | 32                   | 0                    | 0                    | 0                    | 0                    | 0                    | 0                    | No                   |\n",
       "| ... | ... | ... | ... | ... | ... | ... | ... | ... | ... | ... | ... | ... |\n",
       "| 7.935892e+14         | 5757745              | M                    | 2016-06-01T09:46:33Z | 2016-06-01T00:00:00Z | 76                   | 0                    | 0                    | 0                    | 0                    | 0                    | 0                    | No                   |\n",
       "| 9.433654e+13         | 5787655              | F                    | 2016-06-08T10:21:14Z | 2016-06-08T00:00:00Z | 59                   | 0                    | 0                    | 0                    | 0                    | 0                    | 0                    | No                   |\n",
       "| 8.219692e+14         | 5757697              | F                    | 2016-06-01T09:42:56Z | 2016-06-01T00:00:00Z | 66                   | 0                    | 1                    | 1                    | 0                    | 0                    | 0                    | No                   |\n",
       "| 4.434384e+14         | 5787233              | F                    | 2016-06-08T09:35:13Z | 2016-06-08T00:00:00Z | 59                   | 0                    | 0                    | 0                    | 0                    | 0                    | 0                    | No                   |\n",
       "| 4.544252e+11         | 5758133              | M                    | 2016-06-01T10:19:12Z | 2016-06-01T00:00:00Z | 44                   | 0                    | 0                    | 0                    | 0                    | 0                    | 0                    | No                   |\n",
       "| 7.316229e+14         | 5787937              | F                    | 2016-06-08T10:50:42Z | 2016-06-08T00:00:00Z | 22                   | 0                    | 0                    | 0                    | 0                    | 0                    | 0                    | No                   |\n",
       "| 2.362182e+13         | 5759473              | F                    | 2016-06-01T13:00:36Z | 2016-06-01T00:00:00Z | 64                   | 0                    | 0                    | 0                    | 0                    | 0                    | 0                    | No                   |\n",
       "| 9.947983e+12         | 5788052              | F                    | 2016-06-08T11:06:21Z | 2016-06-08T00:00:00Z |  4                   | 0                    | 0                    | 0                    | 0                    | 0                    | 0                    | No                   |\n",
       "| 5.667344e+13         | 5758455              | F                    | 2016-06-01T10:45:50Z | 2016-06-01T00:00:00Z | 55                   | 0                    | 0                    | 0                    | 0                    | 0                    | 0                    | No                   |\n",
       "| 8.973883e+11         | 5758779              | M                    | 2016-06-01T11:09:20Z | 2016-06-01T00:00:00Z |  5                   | 0                    | 0                    | 0                    | 0                    | 0                    | 0                    | No                   |\n",
       "| 4.769462e+14         | 5786918              | F                    | 2016-06-08T09:04:18Z | 2016-06-08T00:00:00Z |  0                   | 0                    | 0                    | 0                    | 0                    | 0                    | 0                    | No                   |\n",
       "| 9.433654e+13         | 5757656              | F                    | 2016-06-01T09:41:00Z | 2016-06-01T00:00:00Z | 59                   | 0                    | 0                    | 0                    | 0                    | 0                    | 0                    | No                   |\n",
       "| 4.952968e+14         | 5786750              | M                    | 2016-06-08T08:50:51Z | 2016-06-08T00:00:00Z | 33                   | 0                    | 0                    | 0                    | 0                    | 0                    | 0                    | No                   |\n",
       "| 2.362182e+13         | 5757587              | F                    | 2016-06-01T09:35:48Z | 2016-06-01T00:00:00Z | 64                   | 0                    | 0                    | 0                    | 0                    | 0                    | 0                    | No                   |\n",
       "| 8.235996e+11         | 5786742              | F                    | 2016-06-08T08:50:20Z | 2016-06-08T00:00:00Z | 14                   | 0                    | 0                    | 0                    | 0                    | 0                    | 0                    | No                   |\n",
       "| 9.876246e+13         | 5786368              | F                    | 2016-06-08T08:20:01Z | 2016-06-08T00:00:00Z | 41                   | 0                    | 0                    | 0                    | 0                    | 0                    | 0                    | No                   |\n",
       "| 8.674778e+13         | 5785964              | M                    | 2016-06-08T07:52:55Z | 2016-06-08T00:00:00Z |  2                   | 0                    | 0                    | 0                    | 0                    | 0                    | 0                    | No                   |\n",
       "| 2.695685e+12         | 5786567              | F                    | 2016-06-08T08:35:31Z | 2016-06-08T00:00:00Z | 58                   | 0                    | 0                    | 0                    | 0                    | 0                    | 0                    | No                   |\n",
       "| 6.456342e+14         | 5778621              | M                    | 2016-06-06T15:58:05Z | 2016-06-08T00:00:00Z | 33                   | 0                    | 1                    | 0                    | 0                    | 0                    | 0                    | Yes                  |\n",
       "| 6.923772e+13         | 5780205              | F                    | 2016-06-07T07:45:16Z | 2016-06-08T00:00:00Z | 37                   | 0                    | 0                    | 0                    | 0                    | 0                    | 0                    | Yes                  |\n",
       "| 5.574942e+12         | 5780122              | F                    | 2016-06-07T07:38:34Z | 2016-06-07T00:00:00Z | 19                   | 0                    | 0                    | 0                    | 0                    | 0                    | 0                    | No                   |\n",
       "| 7.263315e+13         | 5630375              | F                    | 2016-04-27T15:15:06Z | 2016-06-07T00:00:00Z | 50                   | 0                    | 0                    | 0                    | 0                    | 0                    | 1                    | No                   |\n",
       "| 6.542388e+13         | 5630447              | F                    | 2016-04-27T15:23:14Z | 2016-06-07T00:00:00Z | 22                   | 0                    | 0                    | 0                    | 0                    | 0                    | 1                    | No                   |\n",
       "| 9.969977e+14         | 5650534              | F                    | 2016-05-03T07:51:47Z | 2016-06-07T00:00:00Z | 42                   | 0                    | 0                    | 0                    | 0                    | 0                    | 1                    | No                   |\n",
       "| 3.635534e+13         | 5651072              | F                    | 2016-05-03T08:23:40Z | 2016-06-07T00:00:00Z | 53                   | 0                    | 0                    | 0                    | 0                    | 0                    | 1                    | No                   |\n",
       "| 2.572134e+12         | 5651768              | F                    | 2016-05-03T09:15:35Z | 2016-06-07T00:00:00Z | 56                   | 0                    | 0                    | 0                    | 0                    | 0                    | 1                    | No                   |\n",
       "| 3.596266e+12         | 5650093              | F                    | 2016-05-03T07:27:33Z | 2016-06-07T00:00:00Z | 51                   | 0                    | 0                    | 0                    | 0                    | 0                    | 1                    | No                   |\n",
       "| 1.557663e+13         | 5630692              | F                    | 2016-04-27T16:03:52Z | 2016-06-07T00:00:00Z | 21                   | 0                    | 0                    | 0                    | 0                    | 0                    | 1                    | No                   |\n",
       "| 9.213493e+13         | 5630323              | F                    | 2016-04-27T15:09:23Z | 2016-06-07T00:00:00Z | 38                   | 0                    | 0                    | 0                    | 0                    | 0                    | 1                    | No                   |\n",
       "| 3.775115e+14         | 5629448              | F                    | 2016-04-27T13:30:56Z | 2016-06-07T00:00:00Z | 54                   | 0                    | 0                    | 0                    | 0                    | 0                    | 1                    | No                   |\n",
       "\n"
      ],
      "text/plain": [
       "       PatientId    AppointmentID Gender ScheduledDay        \n",
       "1      2.987250e+13 5642903       F      2016-04-29T18:38:08Z\n",
       "2      5.589978e+14 5642503       M      2016-04-29T16:08:27Z\n",
       "3      4.262962e+12 5642549       F      2016-04-29T16:19:04Z\n",
       "4      8.679512e+11 5642828       F      2016-04-29T17:29:31Z\n",
       "5      8.841186e+12 5642494       F      2016-04-29T16:07:23Z\n",
       "6      9.598513e+13 5626772       F      2016-04-27T08:36:51Z\n",
       "7      7.336882e+14 5630279       F      2016-04-27T15:05:12Z\n",
       "8      3.449833e+12 5630575       F      2016-04-27T15:39:58Z\n",
       "9      5.639473e+13 5638447       F      2016-04-29T08:02:16Z\n",
       "10     7.812456e+13 5629123       F      2016-04-27T12:48:25Z\n",
       "11     7.345362e+14 5630213       F      2016-04-27T14:58:11Z\n",
       "12     7.542951e+12 5620163       M      2016-04-26T08:44:12Z\n",
       "13     5.666548e+14 5634718       F      2016-04-28T11:33:51Z\n",
       "14     9.113946e+14 5636249       M      2016-04-28T14:52:07Z\n",
       "15     9.988472e+13 5633951       F      2016-04-28T10:06:24Z\n",
       "16     9.994839e+10 5620206       F      2016-04-26T08:47:27Z\n",
       "17     8.457439e+13 5633121       M      2016-04-28T08:51:47Z\n",
       "18     1.479497e+13 5633460       F      2016-04-28T09:28:57Z\n",
       "19     1.713538e+13 5621836       F      2016-04-26T10:54:18Z\n",
       "20     7.223289e+12 5640433       F      2016-04-29T10:43:14Z\n",
       "21     6.222575e+14 5626083       F      2016-04-27T07:51:14Z\n",
       "22     1.215484e+13 5628338       F      2016-04-27T10:50:45Z\n",
       "23     8.632298e+14 5616091       M      2016-04-25T13:29:16Z\n",
       "24     2.137540e+14 5634142       F      2016-04-28T10:27:05Z\n",
       "25     8.734858e+12 5641780       F      2016-04-29T14:19:19Z\n",
       "26     5.819370e+12 5624020       M      2016-04-26T15:04:17Z\n",
       "27     2.578785e+10 5641781       F      2016-04-29T14:19:42Z\n",
       "28     1.215484e+13 5628345       F      2016-04-27T10:51:45Z\n",
       "29     5.926172e+12 5642400       M      2016-04-29T15:48:02Z\n",
       "30     1.225776e+12 5642186       F      2016-04-29T15:16:29Z\n",
       "...    ...          ...           ...    ...                 \n",
       "110498 7.935892e+14 5757745       M      2016-06-01T09:46:33Z\n",
       "110499 9.433654e+13 5787655       F      2016-06-08T10:21:14Z\n",
       "110500 8.219692e+14 5757697       F      2016-06-01T09:42:56Z\n",
       "110501 4.434384e+14 5787233       F      2016-06-08T09:35:13Z\n",
       "110502 4.544252e+11 5758133       M      2016-06-01T10:19:12Z\n",
       "110503 7.316229e+14 5787937       F      2016-06-08T10:50:42Z\n",
       "110504 2.362182e+13 5759473       F      2016-06-01T13:00:36Z\n",
       "110505 9.947983e+12 5788052       F      2016-06-08T11:06:21Z\n",
       "110506 5.667344e+13 5758455       F      2016-06-01T10:45:50Z\n",
       "110507 8.973883e+11 5758779       M      2016-06-01T11:09:20Z\n",
       "110508 4.769462e+14 5786918       F      2016-06-08T09:04:18Z\n",
       "110509 9.433654e+13 5757656       F      2016-06-01T09:41:00Z\n",
       "110510 4.952968e+14 5786750       M      2016-06-08T08:50:51Z\n",
       "110511 2.362182e+13 5757587       F      2016-06-01T09:35:48Z\n",
       "110512 8.235996e+11 5786742       F      2016-06-08T08:50:20Z\n",
       "110513 9.876246e+13 5786368       F      2016-06-08T08:20:01Z\n",
       "110514 8.674778e+13 5785964       M      2016-06-08T07:52:55Z\n",
       "110515 2.695685e+12 5786567       F      2016-06-08T08:35:31Z\n",
       "110516 6.456342e+14 5778621       M      2016-06-06T15:58:05Z\n",
       "110517 6.923772e+13 5780205       F      2016-06-07T07:45:16Z\n",
       "110518 5.574942e+12 5780122       F      2016-06-07T07:38:34Z\n",
       "110519 7.263315e+13 5630375       F      2016-04-27T15:15:06Z\n",
       "110520 6.542388e+13 5630447       F      2016-04-27T15:23:14Z\n",
       "110521 9.969977e+14 5650534       F      2016-05-03T07:51:47Z\n",
       "110522 3.635534e+13 5651072       F      2016-05-03T08:23:40Z\n",
       "110523 2.572134e+12 5651768       F      2016-05-03T09:15:35Z\n",
       "110524 3.596266e+12 5650093       F      2016-05-03T07:27:33Z\n",
       "110525 1.557663e+13 5630692       F      2016-04-27T16:03:52Z\n",
       "110526 9.213493e+13 5630323       F      2016-04-27T15:09:23Z\n",
       "110527 3.775115e+14 5629448       F      2016-04-27T13:30:56Z\n",
       "       AppointmentDay       Age Scholarship Hipertension Diabetes Alcoholism\n",
       "1      2016-04-29T00:00:00Z 62  0           1            0        0         \n",
       "2      2016-04-29T00:00:00Z 56  0           0            0        0         \n",
       "3      2016-04-29T00:00:00Z 62  0           0            0        0         \n",
       "4      2016-04-29T00:00:00Z  8  0           0            0        0         \n",
       "5      2016-04-29T00:00:00Z 56  0           1            1        0         \n",
       "6      2016-04-29T00:00:00Z 76  0           1            0        0         \n",
       "7      2016-04-29T00:00:00Z 23  0           0            0        0         \n",
       "8      2016-04-29T00:00:00Z 39  0           0            0        0         \n",
       "9      2016-04-29T00:00:00Z 21  0           0            0        0         \n",
       "10     2016-04-29T00:00:00Z 19  0           0            0        0         \n",
       "11     2016-04-29T00:00:00Z 30  0           0            0        0         \n",
       "12     2016-04-29T00:00:00Z 29  0           0            0        0         \n",
       "13     2016-04-29T00:00:00Z 22  1           0            0        0         \n",
       "14     2016-04-29T00:00:00Z 28  0           0            0        0         \n",
       "15     2016-04-29T00:00:00Z 54  0           0            0        0         \n",
       "16     2016-04-29T00:00:00Z 15  0           0            0        0         \n",
       "17     2016-04-29T00:00:00Z 50  0           0            0        0         \n",
       "18     2016-04-29T00:00:00Z 40  1           0            0        0         \n",
       "19     2016-04-29T00:00:00Z 30  1           0            0        0         \n",
       "20     2016-04-29T00:00:00Z 46  0           0            0        0         \n",
       "21     2016-04-29T00:00:00Z 30  0           0            0        0         \n",
       "22     2016-04-29T00:00:00Z  4  0           0            0        0         \n",
       "23     2016-04-29T00:00:00Z 13  0           0            0        0         \n",
       "24     2016-04-29T00:00:00Z 46  0           0            0        0         \n",
       "25     2016-04-29T00:00:00Z 65  0           0            0        0         \n",
       "26     2016-04-29T00:00:00Z 46  0           1            0        0         \n",
       "27     2016-04-29T00:00:00Z 45  0           1            0        0         \n",
       "28     2016-04-29T00:00:00Z  4  0           0            0        0         \n",
       "29     2016-04-29T00:00:00Z 51  0           0            0        0         \n",
       "30     2016-04-29T00:00:00Z 32  0           0            0        0         \n",
       "...    ...                  ... ...         ...          ...      ...       \n",
       "110498 2016-06-01T00:00:00Z 76  0           0            0        0         \n",
       "110499 2016-06-08T00:00:00Z 59  0           0            0        0         \n",
       "110500 2016-06-01T00:00:00Z 66  0           1            1        0         \n",
       "110501 2016-06-08T00:00:00Z 59  0           0            0        0         \n",
       "110502 2016-06-01T00:00:00Z 44  0           0            0        0         \n",
       "110503 2016-06-08T00:00:00Z 22  0           0            0        0         \n",
       "110504 2016-06-01T00:00:00Z 64  0           0            0        0         \n",
       "110505 2016-06-08T00:00:00Z  4  0           0            0        0         \n",
       "110506 2016-06-01T00:00:00Z 55  0           0            0        0         \n",
       "110507 2016-06-01T00:00:00Z  5  0           0            0        0         \n",
       "110508 2016-06-08T00:00:00Z  0  0           0            0        0         \n",
       "110509 2016-06-01T00:00:00Z 59  0           0            0        0         \n",
       "110510 2016-06-08T00:00:00Z 33  0           0            0        0         \n",
       "110511 2016-06-01T00:00:00Z 64  0           0            0        0         \n",
       "110512 2016-06-08T00:00:00Z 14  0           0            0        0         \n",
       "110513 2016-06-08T00:00:00Z 41  0           0            0        0         \n",
       "110514 2016-06-08T00:00:00Z  2  0           0            0        0         \n",
       "110515 2016-06-08T00:00:00Z 58  0           0            0        0         \n",
       "110516 2016-06-08T00:00:00Z 33  0           1            0        0         \n",
       "110517 2016-06-08T00:00:00Z 37  0           0            0        0         \n",
       "110518 2016-06-07T00:00:00Z 19  0           0            0        0         \n",
       "110519 2016-06-07T00:00:00Z 50  0           0            0        0         \n",
       "110520 2016-06-07T00:00:00Z 22  0           0            0        0         \n",
       "110521 2016-06-07T00:00:00Z 42  0           0            0        0         \n",
       "110522 2016-06-07T00:00:00Z 53  0           0            0        0         \n",
       "110523 2016-06-07T00:00:00Z 56  0           0            0        0         \n",
       "110524 2016-06-07T00:00:00Z 51  0           0            0        0         \n",
       "110525 2016-06-07T00:00:00Z 21  0           0            0        0         \n",
       "110526 2016-06-07T00:00:00Z 38  0           0            0        0         \n",
       "110527 2016-06-07T00:00:00Z 54  0           0            0        0         \n",
       "       Handcap SMS_received No.show\n",
       "1      0       0            No     \n",
       "2      0       0            No     \n",
       "3      0       0            No     \n",
       "4      0       0            No     \n",
       "5      0       0            No     \n",
       "6      0       0            No     \n",
       "7      0       0            Yes    \n",
       "8      0       0            Yes    \n",
       "9      0       0            No     \n",
       "10     0       0            No     \n",
       "11     0       0            No     \n",
       "12     0       1            Yes    \n",
       "13     0       0            No     \n",
       "14     0       0            No     \n",
       "15     0       0            No     \n",
       "16     0       1            No     \n",
       "17     0       0            No     \n",
       "18     0       0            Yes    \n",
       "19     0       1            No     \n",
       "20     0       0            No     \n",
       "21     0       0            Yes    \n",
       "22     0       0            Yes    \n",
       "23     0       1            Yes    \n",
       "24     0       0            No     \n",
       "25     0       0            No     \n",
       "26     0       1            No     \n",
       "27     0       0            No     \n",
       "28     0       0            No     \n",
       "29     0       0            No     \n",
       "30     0       0            No     \n",
       "...    ...     ...          ...    \n",
       "110498 0       0            No     \n",
       "110499 0       0            No     \n",
       "110500 0       0            No     \n",
       "110501 0       0            No     \n",
       "110502 0       0            No     \n",
       "110503 0       0            No     \n",
       "110504 0       0            No     \n",
       "110505 0       0            No     \n",
       "110506 0       0            No     \n",
       "110507 0       0            No     \n",
       "110508 0       0            No     \n",
       "110509 0       0            No     \n",
       "110510 0       0            No     \n",
       "110511 0       0            No     \n",
       "110512 0       0            No     \n",
       "110513 0       0            No     \n",
       "110514 0       0            No     \n",
       "110515 0       0            No     \n",
       "110516 0       0            Yes    \n",
       "110517 0       0            Yes    \n",
       "110518 0       0            No     \n",
       "110519 0       1            No     \n",
       "110520 0       1            No     \n",
       "110521 0       1            No     \n",
       "110522 0       1            No     \n",
       "110523 0       1            No     \n",
       "110524 0       1            No     \n",
       "110525 0       1            No     \n",
       "110526 0       1            No     \n",
       "110527 0       1            No     "
      ]
     },
     "metadata": {},
     "output_type": "display_data"
    }
   ],
   "source": [
    "#The raw data is then loaded into the 'newdata' dataframe, this is the dataframe which we'll be using\n",
    "newdata <- rawdata\n",
    "myvars <- names(newdata) %in% c(\"Neighbourhood\")\n",
    "newdata <- newdata[!myvars]\n",
    "newdata"
   ]
  },
  {
   "cell_type": "code",
   "execution_count": 6,
   "metadata": {},
   "outputs": [
    {
     "name": "stdout",
     "output_type": "stream",
     "text": [
      "'data.frame':\t110527 obs. of  13 variables:\n",
      " $ PatientId     : num  2.99e+13 5.59e+14 4.26e+12 8.68e+11 8.84e+12 ...\n",
      " $ AppointmentID : int  5642903 5642503 5642549 5642828 5642494 5626772 5630279 5630575 5638447 5629123 ...\n",
      " $ Gender        : Factor w/ 2 levels \"F\",\"M\": 1 2 1 1 1 1 1 1 1 1 ...\n",
      " $ ScheduledDay  : Factor w/ 103549 levels \"2015-11-10T07:13:56Z\",..: 27742 27504 27539 27709 27498 20074 21386 21496 24945 20895 ...\n",
      " $ AppointmentDay: Factor w/ 27 levels \"2016-04-29T00:00:00Z\",..: 1 1 1 1 1 1 1 1 1 1 ...\n",
      " $ Age           : int  62 56 62 8 56 76 23 39 21 19 ...\n",
      " $ Scholarship   : int  0 0 0 0 0 0 0 0 0 0 ...\n",
      " $ Hipertension  : int  1 0 0 0 1 1 0 0 0 0 ...\n",
      " $ Diabetes      : int  0 0 0 0 1 0 0 0 0 0 ...\n",
      " $ Alcoholism    : int  0 0 0 0 0 0 0 0 0 0 ...\n",
      " $ Handcap       : int  0 0 0 0 0 0 0 0 0 0 ...\n",
      " $ SMS_received  : int  0 0 0 0 0 0 0 0 0 0 ...\n",
      " $ No.show       : Factor w/ 2 levels \"No\",\"Yes\": 1 1 1 1 1 1 2 2 1 1 ...\n"
     ]
    }
   ],
   "source": [
    "#Checking the structure of the dataframe\n",
    "str(newdata)"
   ]
  },
  {
   "cell_type": "code",
   "execution_count": 7,
   "metadata": {},
   "outputs": [],
   "source": [
    "#Changing date columns to date datatype\n",
    "newdata$ScheduledDay <- ymd_hms(newdata$ScheduledDay)\n",
    "newdata$AppointmentDay <- ymd_hms(newdata$AppointmentDay)"
   ]
  },
  {
   "cell_type": "code",
   "execution_count": 8,
   "metadata": {},
   "outputs": [],
   "source": [
    "#Changing logical columns to logical datatype\n",
    "newdata$Diabetes <- as.logical(newdata$Diabetes)\n",
    "newdata$Alcoholism <- as.logical(newdata$Alcoholism)\n",
    "newdata$Hipertension <- as.logical(newdata$Hipertension)\n",
    "newdata$Scholarship <- as.logical(newdata$Scholarship)\n",
    "newdata$SMS_received <- as.logical(newdata$SMS_received)"
   ]
  },
  {
   "cell_type": "code",
   "execution_count": 9,
   "metadata": {},
   "outputs": [
    {
     "name": "stdout",
     "output_type": "stream",
     "text": [
      "'data.frame':\t110527 obs. of  13 variables:\n",
      " $ PatientId     : num  2.99e+13 5.59e+14 4.26e+12 8.68e+11 8.84e+12 ...\n",
      " $ AppointmentID : int  5642903 5642503 5642549 5642828 5642494 5626772 5630279 5630575 5638447 5629123 ...\n",
      " $ Gender        : Factor w/ 2 levels \"F\",\"M\": 1 2 1 1 1 1 1 1 1 1 ...\n",
      " $ ScheduledDay  : POSIXct, format: \"2016-04-29 18:38:08\" \"2016-04-29 16:08:27\" ...\n",
      " $ AppointmentDay: POSIXct, format: \"2016-04-29\" \"2016-04-29\" ...\n",
      " $ Age           : int  62 56 62 8 56 76 23 39 21 19 ...\n",
      " $ Scholarship   : logi  FALSE FALSE FALSE FALSE FALSE FALSE ...\n",
      " $ Hipertension  : logi  TRUE FALSE FALSE FALSE TRUE TRUE ...\n",
      " $ Diabetes      : logi  FALSE FALSE FALSE FALSE TRUE FALSE ...\n",
      " $ Alcoholism    : logi  FALSE FALSE FALSE FALSE FALSE FALSE ...\n",
      " $ Handcap       : int  0 0 0 0 0 0 0 0 0 0 ...\n",
      " $ SMS_received  : logi  FALSE FALSE FALSE FALSE FALSE FALSE ...\n",
      " $ No.show       : Factor w/ 2 levels \"No\",\"Yes\": 1 1 1 1 1 1 2 2 1 1 ...\n"
     ]
    },
    {
     "data": {
      "text/plain": [
       "   PatientId         AppointmentID     Gender     ScheduledDay                \n",
       " Min.   :3.922e+04   Min.   :5030230   F:71840   Min.   :2015-11-10 07:13:56  \n",
       " 1st Qu.:4.173e+12   1st Qu.:5640286   M:38687   1st Qu.:2016-04-29 10:27:01  \n",
       " Median :3.173e+13   Median :5680573             Median :2016-05-10 12:13:17  \n",
       " Mean   :1.475e+14   Mean   :5675305             Mean   :2016-05-09 07:49:15  \n",
       " 3rd Qu.:9.439e+13   3rd Qu.:5725524             3rd Qu.:2016-05-20 11:18:37  \n",
       " Max.   :1.000e+15   Max.   :5790484             Max.   :2016-06-08 20:07:23  \n",
       " AppointmentDay                     Age         Scholarship     Hipertension   \n",
       " Min.   :2016-04-29 00:00:00   Min.   : -1.00   Mode :logical   Mode :logical  \n",
       " 1st Qu.:2016-05-09 00:00:00   1st Qu.: 18.00   FALSE:99666     FALSE:88726    \n",
       " Median :2016-05-18 00:00:00   Median : 37.00   TRUE :10861     TRUE :21801    \n",
       " Mean   :2016-05-19 00:57:50   Mean   : 37.09                                  \n",
       " 3rd Qu.:2016-05-31 00:00:00   3rd Qu.: 55.00                                  \n",
       " Max.   :2016-06-08 00:00:00   Max.   :115.00                                  \n",
       "  Diabetes       Alcoholism         Handcap        SMS_received    No.show    \n",
       " Mode :logical   Mode :logical   Min.   :0.00000   Mode :logical   No :88208  \n",
       " FALSE:102584    FALSE:107167    1st Qu.:0.00000   FALSE:75045     Yes:22319  \n",
       " TRUE :7943      TRUE :3360      Median :0.00000   TRUE :35482                \n",
       "                                 Mean   :0.02225                              \n",
       "                                 3rd Qu.:0.00000                              \n",
       "                                 Max.   :4.00000                              "
      ]
     },
     "metadata": {},
     "output_type": "display_data"
    }
   ],
   "source": [
    "str(newdata)\n",
    "summary(newdata)"
   ]
  },
  {
   "cell_type": "code",
   "execution_count": 10,
   "metadata": {},
   "outputs": [
    {
     "data": {
      "text/plain": [
       "   Mode   FALSE    TRUE \n",
       "logical  110526       1 "
      ]
     },
     "metadata": {},
     "output_type": "display_data"
    }
   ],
   "source": [
    "#By looking at the above summary it can be inferred that the variable Age has some inconsistent values/outliers.\n",
    "summary(newdata$Age < 0)\n",
    "#There appear to be only 1 inconsistent values/outliers for Age.\n",
    "#This is a very small value of outliers when compared to the entire dataset, so we go ahead without making any changes to the Age variable."
   ]
  },
  {
   "cell_type": "code",
   "execution_count": 11,
   "metadata": {},
   "outputs": [
    {
     "data": {
      "image/png": "[encoded data removed]",
      "text/plain": [
       "plot without title"
      ]
     },
     "metadata": {},
     "output_type": "display_data"
    }
   ],
   "source": [
    "## Plotting No-Show vs Show-Up\n",
    "gg_bar_status <- ggplot() + geom_bar(data = newdata, aes(x=No.show, fill=No.show)) + ggtitle(\"No-Show VS Show\")\n",
    "print(gg_bar_status)"
   ]
  },
  {
   "cell_type": "code",
   "execution_count": 12,
   "metadata": {},
   "outputs": [],
   "source": [
    "#From the above graph it can be inferred that from the 300K medical appointements made, there were atleast 90K no-shows."
   ]
  },
  {
   "cell_type": "code",
   "execution_count": 13,
   "metadata": {},
   "outputs": [
    {
     "data": {
      "image/png": "[encoded data removed]",
      "text/plain": [
       "plot without title"
      ]
     },
     "metadata": {},
     "output_type": "display_data"
    }
   ],
   "source": [
    "## Let's Analyze to see if no-show depends on Age of the patient\n",
    "gg_hist_age <- ggplot(newdata, aes(x=Age)) + geom_histogram(bins = 50)\n",
    "gg_box_status_age <- ggplot(newdata, aes(x=No.show, y=Age, col=No.show)) + geom_boxplot()\n",
    "grid.arrange(gg_hist_age, gg_box_status_age,ncol=2, top='Does no-show depend on Age?')"
   ]
  },
  {
   "cell_type": "code",
   "execution_count": 14,
   "metadata": {},
   "outputs": [],
   "source": [
    "#From the above graphs it can be inferred that younger patients are more likely to not show up for their mdeical appointement."
   ]
  },
  {
   "cell_type": "code",
   "execution_count": 15,
   "metadata": {},
   "outputs": [
    {
     "data": {
      "image/png": "[encoded data removed]",
      "text/plain": [
       "plot without title"
      ]
     },
     "metadata": {},
     "output_type": "display_data"
    }
   ],
   "source": [
    "##Let's Analyze to see if no-show depends on Gender of the patient\n",
    "gg_bar_gender <- ggplot(newdata, aes(x=Gender, fill=Gender)) + geom_bar()\n",
    "gg_bar_gender_status <- ggplot(newdata, aes(x=Gender, fill=No.show)) + geom_bar(position = \"fill\")\n",
    "grid.arrange(gg_bar_gender, gg_bar_gender_status,ncol=2, top='Does no-show depend on Gender?')"
   ]
  },
  {
   "cell_type": "code",
   "execution_count": 16,
   "metadata": {},
   "outputs": [],
   "source": [
    "#By looking at the above bar plot on the left it can be inferred that, the number of female patients are almost double in number when compared to the male patients.\n",
    "#By looking at the above bar plot on the right it can be inferred that, the patient's gender doesn't have much of an impact on showing up for an appointment."
   ]
  },
  {
   "cell_type": "code",
   "execution_count": 17,
   "metadata": {},
   "outputs": [
    {
     "data": {
      "image/png": "[encoded data removed]",
      "text/plain": [
       "plot without title"
      ]
     },
     "metadata": {},
     "output_type": "display_data"
    }
   ],
   "source": [
    "## Let's Analyze to see if no-show depends on Sms Reminder being sent\n",
    "gg_bar_smsreminder <- ggplot(newdata, aes(x=SMS_received, fill=No.show)) + geom_bar(position = \"fill\") + ggtitle(\"Does No-Show depend on Sms Reminder being sent?\")\n",
    "gg_bar_smsreminder"
   ]
  },
  {
   "cell_type": "code",
   "execution_count": 18,
   "metadata": {},
   "outputs": [],
   "source": [
    "#By looking at the above graph it can be inferred that, sending patients an sms reminding them of their appointment have an impact upto some extend on the no show rate."
   ]
  },
  {
   "cell_type": "code",
   "execution_count": 19,
   "metadata": {},
   "outputs": [],
   "source": [
    "## Let's Analyze to see if no-show depends on a patient's habits and medical conditions"
   ]
  },
  {
   "cell_type": "code",
   "execution_count": 20,
   "metadata": {},
   "outputs": [
    {
     "data": {
      "image/png": "[encoded data removed]",
      "text/plain": [
       "plot without title"
      ]
     },
     "metadata": {},
     "output_type": "display_data"
    }
   ],
   "source": [
    "gg_bar_diabetes <- ggplot(newdata, aes(x=Diabetes, fill=No.show)) + geom_bar(position = \"fill\")\n",
    "gg_bar_alcoolism <- ggplot(newdata, aes(x=Alcoholism, fill=No.show)) + geom_bar(position = \"fill\")\n",
    "gg_bar_hipertension <- ggplot(newdata, aes(x=Hipertension , fill=No.show)) + geom_bar(position = \"fill\")\n",
    "gg_bar_scholarship <- ggplot(newdata, aes(x=Scholarship, fill=No.show)) + geom_bar(position = \"fill\")\n",
    "grid.arrange(gg_bar_diabetes, gg_bar_alcoolism,gg_bar_hipertension, gg_bar_scholarship, ncol=2, top='Does no-show depend on a patient s habits and medical conditions?')"
   ]
  },
  {
   "cell_type": "markdown",
   "metadata": {},
   "source": [
    "The following inferences can be made with the help of the above bar plots:\n",
    "\n",
    "Diabetes: Patients with diabetes have a higer rate of not showing up for their medical appointment.\n",
    "\n",
    "Alcoolism: Patients suffering from alcoholism make no difference to showing up.\n",
    "\n",
    "HiperTension: Patients with hypertension appear to have a lower rate of showing up.\n",
    "\n",
    "Scholarship: Scholarship/Bolsa Família (Portuguese pronunciation: [ˈbowsɐ fɐˈmiʎɐ], Family Allowance) is a social welfare program of the Brazilian government. It can be seen that patients who have inrolled in this welfare program are more likely to show up for their mdeical appointment. "
   ]
  },
  {
   "cell_type": "markdown",
   "metadata": {},
   "source": [
    "## Building Models\n",
    "\n",
    "# Splitting data into Test and Training dataframes\n"
   ]
  },
  {
   "cell_type": "code",
   "execution_count": 21,
   "metadata": {},
   "outputs": [],
   "source": [
    "#Creating a 70/30 split for training and test data\n",
    "set.seed(1592)\n",
    "testrecs <- sample(nrow(newdata),0.3 * nrow(newdata))\n",
    "newdata_test <- newdata[testrecs,]\n",
    "newdata_train <- newdata[-testrecs,]"
   ]
  },
  {
   "cell_type": "code",
   "execution_count": 22,
   "metadata": {},
   "outputs": [
    {
     "data": {
      "text/html": [
       "<table>\n",
       "<thead><tr><th></th><th scope=col>PatientId</th><th scope=col>AppointmentID</th><th scope=col>Gender</th><th scope=col>ScheduledDay</th><th scope=col>AppointmentDay</th><th scope=col>Age</th><th scope=col>Scholarship</th><th scope=col>Hipertension</th><th scope=col>Diabetes</th><th scope=col>Alcoholism</th><th scope=col>Handcap</th><th scope=col>SMS_received</th><th scope=col>No.show</th></tr></thead>\n",
       "<tbody>\n",
       "\t<tr><th scope=row>1435</th><td>4.251315e+12       </td><td>5541569            </td><td>F                  </td><td>2016-04-05 08:06:54</td><td>2016-04-29         </td><td>55                 </td><td>FALSE              </td><td>FALSE              </td><td>FALSE              </td><td>FALSE              </td><td>0                  </td><td> TRUE              </td><td>No                 </td></tr>\n",
       "\t<tr><th scope=row>79794</th><td>3.626698e+13       </td><td>5674913            </td><td>F                  </td><td>2016-05-09 12:23:07</td><td>2016-05-09         </td><td>44                 </td><td>FALSE              </td><td> TRUE              </td><td>FALSE              </td><td>FALSE              </td><td>0                  </td><td>FALSE              </td><td>No                 </td></tr>\n",
       "\t<tr><th scope=row>93277</th><td>2.517480e+13       </td><td>5769995            </td><td>F                  </td><td>2016-06-03 09:34:41</td><td>2016-06-03         </td><td>23                 </td><td>FALSE              </td><td>FALSE              </td><td>FALSE              </td><td>FALSE              </td><td>0                  </td><td>FALSE              </td><td>No                 </td></tr>\n",
       "\t<tr><th scope=row>42657</th><td>3.699653e+12       </td><td>5662394            </td><td>F                  </td><td>2016-05-05 08:29:12</td><td>2016-05-05         </td><td> 5                 </td><td> TRUE              </td><td>FALSE              </td><td>FALSE              </td><td>FALSE              </td><td>0                  </td><td>FALSE              </td><td>Yes                </td></tr>\n",
       "\t<tr><th scope=row>7163</th><td>3.875678e+13       </td><td>5673761            </td><td>M                  </td><td>2016-05-09 09:48:36</td><td>2016-05-09         </td><td>27                 </td><td>FALSE              </td><td>FALSE              </td><td>FALSE              </td><td>FALSE              </td><td>0                  </td><td>FALSE              </td><td>No                 </td></tr>\n",
       "\t<tr><th scope=row>74825</th><td>5.231682e+14       </td><td>5667557            </td><td>M                  </td><td>2016-05-06 07:56:30</td><td>2016-05-18         </td><td> 6                 </td><td>FALSE              </td><td>FALSE              </td><td>FALSE              </td><td>FALSE              </td><td>0                  </td><td>FALSE              </td><td>Yes                </td></tr>\n",
       "\t<tr><th scope=row>91817</th><td>9.833477e+14       </td><td>5772814            </td><td>F                  </td><td>2016-06-03 16:26:05</td><td>2016-06-07         </td><td>72                 </td><td>FALSE              </td><td> TRUE              </td><td>FALSE              </td><td>FALSE              </td><td>0                  </td><td> TRUE              </td><td>No                 </td></tr>\n",
       "\t<tr><th scope=row>80219</th><td>8.563777e+12       </td><td>5742796            </td><td>M                  </td><td>2016-05-30 08:23:04</td><td>2016-05-30         </td><td> 1                 </td><td>FALSE              </td><td>FALSE              </td><td>FALSE              </td><td>FALSE              </td><td>0                  </td><td>FALSE              </td><td>No                 </td></tr>\n",
       "\t<tr><th scope=row>24360</th><td>8.599856e+14       </td><td>5662321            </td><td>F                  </td><td>2016-05-05 08:23:53</td><td>2016-05-05         </td><td>25                 </td><td> TRUE              </td><td>FALSE              </td><td>FALSE              </td><td>FALSE              </td><td>0                  </td><td>FALSE              </td><td>No                 </td></tr>\n",
       "\t<tr><th scope=row>78648</th><td>6.865846e+10       </td><td>5694272            </td><td>M                  </td><td>2016-05-13 08:25:20</td><td>2016-05-13         </td><td> 9                 </td><td>FALSE              </td><td>FALSE              </td><td>FALSE              </td><td>FALSE              </td><td>0                  </td><td>FALSE              </td><td>No                 </td></tr>\n",
       "\t<tr><th scope=row>35482</th><td>6.628997e+13       </td><td>5565768            </td><td>M                  </td><td>2016-04-11 09:23:19</td><td>2016-05-05         </td><td>39                 </td><td>FALSE              </td><td>FALSE              </td><td>FALSE              </td><td>FALSE              </td><td>0                  </td><td> TRUE              </td><td>Yes                </td></tr>\n",
       "\t<tr><th scope=row>39779</th><td>8.679617e+14       </td><td>5705225            </td><td>F                  </td><td>2016-05-17 06:58:00</td><td>2016-05-18         </td><td>25                 </td><td>FALSE              </td><td>FALSE              </td><td>FALSE              </td><td>FALSE              </td><td>0                  </td><td>FALSE              </td><td>No                 </td></tr>\n",
       "\t<tr><th scope=row>668</th><td>9.444243e+11       </td><td>5621404            </td><td>F                  </td><td>2016-04-26 10:14:19</td><td>2016-04-29         </td><td>30                 </td><td>FALSE              </td><td>FALSE              </td><td>FALSE              </td><td>FALSE              </td><td>0                  </td><td> TRUE              </td><td>No                 </td></tr>\n",
       "\t<tr><th scope=row>47282</th><td>2.689922e+11       </td><td>5678954            </td><td>F                  </td><td>2016-05-10 09:15:26</td><td>2016-05-12         </td><td>57                 </td><td>FALSE              </td><td> TRUE              </td><td> TRUE              </td><td>FALSE              </td><td>0                  </td><td>FALSE              </td><td>Yes                </td></tr>\n",
       "\t<tr><th scope=row>3530</th><td>2.841873e+11       </td><td>5605673            </td><td>F                  </td><td>2016-04-20 09:19:50</td><td>2016-05-30         </td><td>36                 </td><td>FALSE              </td><td>FALSE              </td><td>FALSE              </td><td>FALSE              </td><td>0                  </td><td> TRUE              </td><td>No                 </td></tr>\n",
       "\t<tr><th scope=row>80734</th><td>7.667752e+12       </td><td>5606133            </td><td>F                  </td><td>2016-04-20 09:51:42</td><td>2016-05-04         </td><td> 7                 </td><td>FALSE              </td><td>FALSE              </td><td>FALSE              </td><td>FALSE              </td><td>0                  </td><td>FALSE              </td><td>No                 </td></tr>\n",
       "\t<tr><th scope=row>22229</th><td>4.731615e+13       </td><td>5732189            </td><td>F                  </td><td>2016-05-24 11:07:50</td><td>2016-05-30         </td><td>54                 </td><td>FALSE              </td><td>FALSE              </td><td>FALSE              </td><td>FALSE              </td><td>0                  </td><td> TRUE              </td><td>Yes                </td></tr>\n",
       "\t<tr><th scope=row>27963</th><td>1.818853e+13       </td><td>5696542            </td><td>M                  </td><td>2016-05-13 13:29:27</td><td>2016-05-20         </td><td> 8                 </td><td>FALSE              </td><td>FALSE              </td><td>FALSE              </td><td>FALSE              </td><td>0                  </td><td>FALSE              </td><td>No                 </td></tr>\n",
       "\t<tr><th scope=row>32936</th><td>7.237615e+13       </td><td>5603626            </td><td>M                  </td><td>2016-04-20 07:14:10</td><td>2016-05-12         </td><td>46                 </td><td>FALSE              </td><td>FALSE              </td><td>FALSE              </td><td>FALSE              </td><td>1                  </td><td>FALSE              </td><td>No                 </td></tr>\n",
       "\t<tr><th scope=row>95680</th><td>3.481262e+13       </td><td>5761611            </td><td>F                  </td><td>2016-06-02 06:41:20</td><td>2016-06-06         </td><td>86                 </td><td>FALSE              </td><td>FALSE              </td><td>FALSE              </td><td>FALSE              </td><td>0                  </td><td> TRUE              </td><td>No                 </td></tr>\n",
       "\t<tr><th scope=row>38921</th><td>7.925599e+13       </td><td>5607741            </td><td>M                  </td><td>2016-04-20 12:18:12</td><td>2016-05-18         </td><td>25                 </td><td>FALSE              </td><td>FALSE              </td><td>FALSE              </td><td>FALSE              </td><td>0                  </td><td>FALSE              </td><td>Yes                </td></tr>\n",
       "\t<tr><th scope=row>52742</th><td>6.936997e+12       </td><td>5726781            </td><td>F                  </td><td>2016-05-20 14:20:28</td><td>2016-05-24         </td><td>60                 </td><td>FALSE              </td><td> TRUE              </td><td> TRUE              </td><td>FALSE              </td><td>0                  </td><td> TRUE              </td><td>Yes                </td></tr>\n",
       "\t<tr><th scope=row>79565</th><td>3.555668e+13       </td><td>5600578            </td><td>M                  </td><td>2016-04-19 10:54:13</td><td>2016-05-25         </td><td>43                 </td><td>FALSE              </td><td>FALSE              </td><td>FALSE              </td><td>FALSE              </td><td>0                  </td><td> TRUE              </td><td>No                 </td></tr>\n",
       "\t<tr><th scope=row>8835</th><td>1.882323e+14       </td><td>5723617            </td><td>M                  </td><td>2016-05-20 08:26:49</td><td>2016-05-20         </td><td>45                 </td><td>FALSE              </td><td>FALSE              </td><td>FALSE              </td><td>FALSE              </td><td>0                  </td><td>FALSE              </td><td>No                 </td></tr>\n",
       "\t<tr><th scope=row>106042</th><td>9.428427e+12       </td><td>5771606            </td><td>F                  </td><td>2016-06-03 13:24:39</td><td>2016-06-03         </td><td>22                 </td><td>FALSE              </td><td>FALSE              </td><td>FALSE              </td><td>FALSE              </td><td>0                  </td><td>FALSE              </td><td>No                 </td></tr>\n",
       "\t<tr><th scope=row>71702</th><td>5.587790e+12       </td><td>5661916            </td><td>M                  </td><td>2016-05-05 07:54:37</td><td>2016-05-05         </td><td>14                 </td><td>FALSE              </td><td>FALSE              </td><td>FALSE              </td><td>FALSE              </td><td>0                  </td><td>FALSE              </td><td>No                 </td></tr>\n",
       "\t<tr><th scope=row>23655</th><td>6.883349e+13       </td><td>5692016            </td><td>F                  </td><td>2016-05-12 14:13:07</td><td>2016-05-12         </td><td>57                 </td><td>FALSE              </td><td>FALSE              </td><td>FALSE              </td><td>FALSE              </td><td>0                  </td><td>FALSE              </td><td>No                 </td></tr>\n",
       "\t<tr><th scope=row>96406</th><td>9.617315e+11       </td><td>5663999            </td><td>F                  </td><td>2016-05-05 10:54:35</td><td>2016-06-02         </td><td>61                 </td><td>FALSE              </td><td>FALSE              </td><td>FALSE              </td><td>FALSE              </td><td>0                  </td><td> TRUE              </td><td>No                 </td></tr>\n",
       "\t<tr><th scope=row>69398</th><td>2.377426e+13       </td><td>5676046            </td><td>F                  </td><td>2016-05-09 14:53:38</td><td>2016-05-17         </td><td>27                 </td><td>FALSE              </td><td>FALSE              </td><td>FALSE              </td><td>FALSE              </td><td>0                  </td><td>FALSE              </td><td>Yes                </td></tr>\n",
       "\t<tr><th scope=row>39907</th><td>1.875682e+12       </td><td>5744997            </td><td>F                  </td><td>2016-05-30 11:04:42</td><td>2016-05-30         </td><td>14                 </td><td>FALSE              </td><td>FALSE              </td><td>FALSE              </td><td>FALSE              </td><td>0                  </td><td>FALSE              </td><td>No                 </td></tr>\n",
       "\t<tr><th scope=row>...</th><td>...</td><td>...</td><td>...</td><td>...</td><td>...</td><td>...</td><td>...</td><td>...</td><td>...</td><td>...</td><td>...</td><td>...</td><td>...</td></tr>\n",
       "\t<tr><th scope=row>15845</th><td>6.933936e+12       </td><td>5616189            </td><td>F                  </td><td>2016-04-25 13:40:19</td><td>2016-05-05         </td><td>27                 </td><td>FALSE              </td><td>FALSE              </td><td>FALSE              </td><td>FALSE              </td><td>0                  </td><td>FALSE              </td><td>Yes                </td></tr>\n",
       "\t<tr><th scope=row>36288</th><td>1.516640e+14       </td><td>5685936            </td><td>M                  </td><td>2016-05-11 11:26:30</td><td>2016-05-16         </td><td>43                 </td><td>FALSE              </td><td>FALSE              </td><td>FALSE              </td><td>FALSE              </td><td>0                  </td><td>FALSE              </td><td>Yes                </td></tr>\n",
       "\t<tr><th scope=row>6070</th><td>3.521696e+14       </td><td>5718832            </td><td>M                  </td><td>2016-05-19 10:11:42</td><td>2016-05-19         </td><td>10                 </td><td>FALSE              </td><td>FALSE              </td><td>FALSE              </td><td>FALSE              </td><td>0                  </td><td>FALSE              </td><td>No                 </td></tr>\n",
       "\t<tr><th scope=row>27697</th><td>4.228367e+11       </td><td>5641582            </td><td>F                  </td><td>2016-04-29 13:58:38</td><td>2016-05-03         </td><td>54                 </td><td>FALSE              </td><td>FALSE              </td><td>FALSE              </td><td>FALSE              </td><td>0                  </td><td> TRUE              </td><td>No                 </td></tr>\n",
       "\t<tr><th scope=row>37112</th><td>8.665374e+12       </td><td>5652766            </td><td>F                  </td><td>2016-05-03 10:36:22</td><td>2016-05-12         </td><td>10                 </td><td>FALSE              </td><td>FALSE              </td><td>FALSE              </td><td>FALSE              </td><td>0                  </td><td> TRUE              </td><td>No                 </td></tr>\n",
       "\t<tr><th scope=row>94110</th><td>9.441684e+13       </td><td>5770642            </td><td>M                  </td><td>2016-06-03 10:43:26</td><td>2016-06-03         </td><td> 6                 </td><td>FALSE              </td><td>FALSE              </td><td>FALSE              </td><td>FALSE              </td><td>0                  </td><td>FALSE              </td><td>Yes                </td></tr>\n",
       "\t<tr><th scope=row>87014</th><td>8.951619e+13       </td><td>5790355            </td><td>F                  </td><td>2016-06-08 18:21:20</td><td>2016-06-08         </td><td>26                 </td><td>FALSE              </td><td>FALSE              </td><td>FALSE              </td><td>FALSE              </td><td>0                  </td><td>FALSE              </td><td>No                 </td></tr>\n",
       "\t<tr><th scope=row>86379</th><td>8.646381e+14       </td><td>5700216            </td><td>F                  </td><td>2016-05-16 09:14:10</td><td>2016-06-08         </td><td>53                 </td><td>FALSE              </td><td>FALSE              </td><td>FALSE              </td><td>FALSE              </td><td>0                  </td><td> TRUE              </td><td>No                 </td></tr>\n",
       "\t<tr><th scope=row>26544</th><td>8.945722e+13       </td><td>5674299            </td><td>M                  </td><td>2016-05-09 10:47:20</td><td>2016-05-13         </td><td> 8                 </td><td>FALSE              </td><td>FALSE              </td><td>FALSE              </td><td>FALSE              </td><td>0                  </td><td>FALSE              </td><td>No                 </td></tr>\n",
       "\t<tr><th scope=row>3810</th><td>1.141830e+12       </td><td>5656294            </td><td>M                  </td><td>2016-05-04 07:52:32</td><td>2016-05-04         </td><td> 2                 </td><td>FALSE              </td><td>FALSE              </td><td>FALSE              </td><td>FALSE              </td><td>0                  </td><td>FALSE              </td><td>No                 </td></tr>\n",
       "\t<tr><th scope=row>45016</th><td>9.225282e+13       </td><td>5620835            </td><td>F                  </td><td>2016-04-26 09:30:02</td><td>2016-05-10         </td><td>30                 </td><td>FALSE              </td><td>FALSE              </td><td>FALSE              </td><td>FALSE              </td><td>0                  </td><td> TRUE              </td><td>No                 </td></tr>\n",
       "\t<tr><th scope=row>91968</th><td>6.465530e+11       </td><td>5659867            </td><td>M                  </td><td>2016-05-04 14:56:57</td><td>2016-06-01         </td><td>20                 </td><td>FALSE              </td><td>FALSE              </td><td>FALSE              </td><td>FALSE              </td><td>0                  </td><td> TRUE              </td><td>No                 </td></tr>\n",
       "\t<tr><th scope=row>27193</th><td>3.586464e+13       </td><td>5358168            </td><td>F                  </td><td>2016-02-17 09:29:34</td><td>2016-05-05         </td><td>34                 </td><td>FALSE              </td><td>FALSE              </td><td>FALSE              </td><td>FALSE              </td><td>0                  </td><td> TRUE              </td><td>No                 </td></tr>\n",
       "\t<tr><th scope=row>61071</th><td>5.178358e+11       </td><td>5650090            </td><td>F                  </td><td>2016-05-03 07:27:27</td><td>2016-05-03         </td><td>39                 </td><td>FALSE              </td><td> TRUE              </td><td>FALSE              </td><td>FALSE              </td><td>0                  </td><td>FALSE              </td><td>No                 </td></tr>\n",
       "\t<tr><th scope=row>76227</th><td>2.194845e+10       </td><td>5661073            </td><td>F                  </td><td>2016-05-05 07:11:08</td><td>2016-05-05         </td><td> 1                 </td><td>FALSE              </td><td>FALSE              </td><td>FALSE              </td><td>FALSE              </td><td>0                  </td><td>FALSE              </td><td>No                 </td></tr>\n",
       "\t<tr><th scope=row>86790</th><td>4.473732e+13       </td><td>5786465            </td><td>F                  </td><td>2016-06-08 08:27:38</td><td>2016-06-08         </td><td>15                 </td><td>FALSE              </td><td>FALSE              </td><td>FALSE              </td><td>FALSE              </td><td>0                  </td><td>FALSE              </td><td>No                 </td></tr>\n",
       "\t<tr><th scope=row>33784</th><td>9.959983e+13       </td><td>5672796            </td><td>M                  </td><td>2016-05-09 08:31:05</td><td>2016-05-18         </td><td>63                 </td><td> TRUE              </td><td>FALSE              </td><td>FALSE              </td><td>FALSE              </td><td>0                  </td><td>FALSE              </td><td>No                 </td></tr>\n",
       "\t<tr><th scope=row>82859</th><td>7.692877e+12       </td><td>5646332            </td><td>M                  </td><td>2016-05-02 11:15:16</td><td>2016-05-16         </td><td>35                 </td><td>FALSE              </td><td>FALSE              </td><td>FALSE              </td><td>FALSE              </td><td>0                  </td><td>FALSE              </td><td>Yes                </td></tr>\n",
       "\t<tr><th scope=row>65332</th><td>3.853879e+13       </td><td>5656473            </td><td>F                  </td><td>2016-05-04 08:05:20</td><td>2016-05-04         </td><td> 1                 </td><td>FALSE              </td><td>FALSE              </td><td>FALSE              </td><td>FALSE              </td><td>0                  </td><td>FALSE              </td><td>No                 </td></tr>\n",
       "\t<tr><th scope=row>21726</th><td>6.376294e+13       </td><td>5722054            </td><td>M                  </td><td>2016-05-20 07:02:24</td><td>2016-05-24         </td><td>84                 </td><td>FALSE              </td><td>FALSE              </td><td>FALSE              </td><td>FALSE              </td><td>0                  </td><td> TRUE              </td><td>No                 </td></tr>\n",
       "\t<tr><th scope=row>7001</th><td>7.716342e+12       </td><td>5706327            </td><td>M                  </td><td>2016-05-17 08:09:17</td><td>2016-05-17         </td><td>56                 </td><td>FALSE              </td><td> TRUE              </td><td>FALSE              </td><td>FALSE              </td><td>0                  </td><td>FALSE              </td><td>No                 </td></tr>\n",
       "\t<tr><th scope=row>102655</th><td>2.866713e+13       </td><td>5746721            </td><td>F                  </td><td>2016-05-30 14:26:51</td><td>2016-06-01         </td><td>15                 </td><td>FALSE              </td><td>FALSE              </td><td>FALSE              </td><td>FALSE              </td><td>0                  </td><td>FALSE              </td><td>No                 </td></tr>\n",
       "\t<tr><th scope=row>55496</th><td>9.112787e+10       </td><td>5695701            </td><td>F                  </td><td>2016-05-13 10:45:40</td><td>2016-05-19         </td><td>28                 </td><td>FALSE              </td><td> TRUE              </td><td>FALSE              </td><td>FALSE              </td><td>0                  </td><td>FALSE              </td><td>No                 </td></tr>\n",
       "\t<tr><th scope=row>26379</th><td>4.487544e+11       </td><td>5648059            </td><td>M                  </td><td>2016-05-02 14:57:02</td><td>2016-05-10         </td><td>49                 </td><td>FALSE              </td><td> TRUE              </td><td>FALSE              </td><td>FALSE              </td><td>0                  </td><td> TRUE              </td><td>Yes                </td></tr>\n",
       "\t<tr><th scope=row>6693</th><td>8.588500e+13       </td><td>5707498            </td><td>F                  </td><td>2016-05-17 09:42:05</td><td>2016-05-18         </td><td>20                 </td><td>FALSE              </td><td>FALSE              </td><td>FALSE              </td><td>FALSE              </td><td>0                  </td><td>FALSE              </td><td>No                 </td></tr>\n",
       "\t<tr><th scope=row>65223</th><td>2.554653e+14       </td><td>5750706            </td><td>F                  </td><td>2016-05-31 09:12:56</td><td>2016-05-31         </td><td> 0                 </td><td>FALSE              </td><td>FALSE              </td><td>FALSE              </td><td>FALSE              </td><td>0                  </td><td>FALSE              </td><td>No                 </td></tr>\n",
       "\t<tr><th scope=row>108649</th><td>2.534863e+12       </td><td>5731340            </td><td>M                  </td><td>2016-05-24 09:52:30</td><td>2016-06-06         </td><td>61                 </td><td>FALSE              </td><td> TRUE              </td><td>FALSE              </td><td>FALSE              </td><td>0                  </td><td> TRUE              </td><td>No                 </td></tr>\n",
       "\t<tr><th scope=row>81437</th><td>1.822417e+11       </td><td>5604812            </td><td>F                  </td><td>2016-04-20 08:21:03</td><td>2016-05-24         </td><td>56                 </td><td>FALSE              </td><td> TRUE              </td><td>FALSE              </td><td>FALSE              </td><td>0                  </td><td> TRUE              </td><td>Yes                </td></tr>\n",
       "\t<tr><th scope=row>56015</th><td>3.223584e+12       </td><td>5653026            </td><td>F                  </td><td>2016-05-03 11:06:10</td><td>2016-05-03         </td><td>62                 </td><td>FALSE              </td><td> TRUE              </td><td>FALSE              </td><td>FALSE              </td><td>0                  </td><td>FALSE              </td><td>No                 </td></tr>\n",
       "\t<tr><th scope=row>43163</th><td>4.241272e+14       </td><td>5634125            </td><td>F                  </td><td>2016-04-28 10:24:56</td><td>2016-05-03         </td><td> 7                 </td><td>FALSE              </td><td>FALSE              </td><td>FALSE              </td><td>FALSE              </td><td>0                  </td><td> TRUE              </td><td>Yes                </td></tr>\n",
       "</tbody>\n",
       "</table>\n"
      ],
      "text/latex": [
       "\\begin{tabular}{r|lllllllllllll}\n",
       "  & PatientId & AppointmentID & Gender & ScheduledDay & AppointmentDay & Age & Scholarship & Hipertension & Diabetes & Alcoholism & Handcap & SMS\\_received & No.show\\\\\n",
       "\\hline\n",
       "\t1435 & 4.251315e+12        & 5541569             & F                   & 2016-04-05 08:06:54 & 2016-04-29          & 55                  & FALSE               & FALSE               & FALSE               & FALSE               & 0                   &  TRUE               & No                 \\\\\n",
       "\t79794 & 3.626698e+13        & 5674913             & F                   & 2016-05-09 12:23:07 & 2016-05-09          & 44                  & FALSE               &  TRUE               & FALSE               & FALSE               & 0                   & FALSE               & No                 \\\\\n",
       "\t93277 & 2.517480e+13        & 5769995             & F                   & 2016-06-03 09:34:41 & 2016-06-03          & 23                  & FALSE               & FALSE               & FALSE               & FALSE               & 0                   & FALSE               & No                 \\\\\n",
       "\t42657 & 3.699653e+12        & 5662394             & F                   & 2016-05-05 08:29:12 & 2016-05-05          &  5                  &  TRUE               & FALSE               & FALSE               & FALSE               & 0                   & FALSE               & Yes                \\\\\n",
       "\t7163 & 3.875678e+13        & 5673761             & M                   & 2016-05-09 09:48:36 & 2016-05-09          & 27                  & FALSE               & FALSE               & FALSE               & FALSE               & 0                   & FALSE               & No                 \\\\\n",
       "\t74825 & 5.231682e+14        & 5667557             & M                   & 2016-05-06 07:56:30 & 2016-05-18          &  6                  & FALSE               & FALSE               & FALSE               & FALSE               & 0                   & FALSE               & Yes                \\\\\n",
       "\t91817 & 9.833477e+14        & 5772814             & F                   & 2016-06-03 16:26:05 & 2016-06-07          & 72                  & FALSE               &  TRUE               & FALSE               & FALSE               & 0                   &  TRUE               & No                 \\\\\n",
       "\t80219 & 8.563777e+12        & 5742796             & M                   & 2016-05-30 08:23:04 & 2016-05-30          &  1                  & FALSE               & FALSE               & FALSE               & FALSE               & 0                   & FALSE               & No                 \\\\\n",
       "\t24360 & 8.599856e+14        & 5662321             & F                   & 2016-05-05 08:23:53 & 2016-05-05          & 25                  &  TRUE               & FALSE               & FALSE               & FALSE               & 0                   & FALSE               & No                 \\\\\n",
       "\t78648 & 6.865846e+10        & 5694272             & M                   & 2016-05-13 08:25:20 & 2016-05-13          &  9                  & FALSE               & FALSE               & FALSE               & FALSE               & 0                   & FALSE               & No                 \\\\\n",
       "\t35482 & 6.628997e+13        & 5565768             & M                   & 2016-04-11 09:23:19 & 2016-05-05          & 39                  & FALSE               & FALSE               & FALSE               & FALSE               & 0                   &  TRUE               & Yes                \\\\\n",
       "\t39779 & 8.679617e+14        & 5705225             & F                   & 2016-05-17 06:58:00 & 2016-05-18          & 25                  & FALSE               & FALSE               & FALSE               & FALSE               & 0                   & FALSE               & No                 \\\\\n",
       "\t668 & 9.444243e+11        & 5621404             & F                   & 2016-04-26 10:14:19 & 2016-04-29          & 30                  & FALSE               & FALSE               & FALSE               & FALSE               & 0                   &  TRUE               & No                 \\\\\n",
       "\t47282 & 2.689922e+11        & 5678954             & F                   & 2016-05-10 09:15:26 & 2016-05-12          & 57                  & FALSE               &  TRUE               &  TRUE               & FALSE               & 0                   & FALSE               & Yes                \\\\\n",
       "\t3530 & 2.841873e+11        & 5605673             & F                   & 2016-04-20 09:19:50 & 2016-05-30          & 36                  & FALSE               & FALSE               & FALSE               & FALSE               & 0                   &  TRUE               & No                 \\\\\n",
       "\t80734 & 7.667752e+12        & 5606133             & F                   & 2016-04-20 09:51:42 & 2016-05-04          &  7                  & FALSE               & FALSE               & FALSE               & FALSE               & 0                   & FALSE               & No                 \\\\\n",
       "\t22229 & 4.731615e+13        & 5732189             & F                   & 2016-05-24 11:07:50 & 2016-05-30          & 54                  & FALSE               & FALSE               & FALSE               & FALSE               & 0                   &  TRUE               & Yes                \\\\\n",
       "\t27963 & 1.818853e+13        & 5696542             & M                   & 2016-05-13 13:29:27 & 2016-05-20          &  8                  & FALSE               & FALSE               & FALSE               & FALSE               & 0                   & FALSE               & No                 \\\\\n",
       "\t32936 & 7.237615e+13        & 5603626             & M                   & 2016-04-20 07:14:10 & 2016-05-12          & 46                  & FALSE               & FALSE               & FALSE               & FALSE               & 1                   & FALSE               & No                 \\\\\n",
       "\t95680 & 3.481262e+13        & 5761611             & F                   & 2016-06-02 06:41:20 & 2016-06-06          & 86                  & FALSE               & FALSE               & FALSE               & FALSE               & 0                   &  TRUE               & No                 \\\\\n",
       "\t38921 & 7.925599e+13        & 5607741             & M                   & 2016-04-20 12:18:12 & 2016-05-18          & 25                  & FALSE               & FALSE               & FALSE               & FALSE               & 0                   & FALSE               & Yes                \\\\\n",
       "\t52742 & 6.936997e+12        & 5726781             & F                   & 2016-05-20 14:20:28 & 2016-05-24          & 60                  & FALSE               &  TRUE               &  TRUE               & FALSE               & 0                   &  TRUE               & Yes                \\\\\n",
       "\t79565 & 3.555668e+13        & 5600578             & M                   & 2016-04-19 10:54:13 & 2016-05-25          & 43                  & FALSE               & FALSE               & FALSE               & FALSE               & 0                   &  TRUE               & No                 \\\\\n",
       "\t8835 & 1.882323e+14        & 5723617             & M                   & 2016-05-20 08:26:49 & 2016-05-20          & 45                  & FALSE               & FALSE               & FALSE               & FALSE               & 0                   & FALSE               & No                 \\\\\n",
       "\t106042 & 9.428427e+12        & 5771606             & F                   & 2016-06-03 13:24:39 & 2016-06-03          & 22                  & FALSE               & FALSE               & FALSE               & FALSE               & 0                   & FALSE               & No                 \\\\\n",
       "\t71702 & 5.587790e+12        & 5661916             & M                   & 2016-05-05 07:54:37 & 2016-05-05          & 14                  & FALSE               & FALSE               & FALSE               & FALSE               & 0                   & FALSE               & No                 \\\\\n",
       "\t23655 & 6.883349e+13        & 5692016             & F                   & 2016-05-12 14:13:07 & 2016-05-12          & 57                  & FALSE               & FALSE               & FALSE               & FALSE               & 0                   & FALSE               & No                 \\\\\n",
       "\t96406 & 9.617315e+11        & 5663999             & F                   & 2016-05-05 10:54:35 & 2016-06-02          & 61                  & FALSE               & FALSE               & FALSE               & FALSE               & 0                   &  TRUE               & No                 \\\\\n",
       "\t69398 & 2.377426e+13        & 5676046             & F                   & 2016-05-09 14:53:38 & 2016-05-17          & 27                  & FALSE               & FALSE               & FALSE               & FALSE               & 0                   & FALSE               & Yes                \\\\\n",
       "\t39907 & 1.875682e+12        & 5744997             & F                   & 2016-05-30 11:04:42 & 2016-05-30          & 14                  & FALSE               & FALSE               & FALSE               & FALSE               & 0                   & FALSE               & No                 \\\\\n",
       "\t... & ... & ... & ... & ... & ... & ... & ... & ... & ... & ... & ... & ... & ...\\\\\n",
       "\t15845 & 6.933936e+12        & 5616189             & F                   & 2016-04-25 13:40:19 & 2016-05-05          & 27                  & FALSE               & FALSE               & FALSE               & FALSE               & 0                   & FALSE               & Yes                \\\\\n",
       "\t36288 & 1.516640e+14        & 5685936             & M                   & 2016-05-11 11:26:30 & 2016-05-16          & 43                  & FALSE               & FALSE               & FALSE               & FALSE               & 0                   & FALSE               & Yes                \\\\\n",
       "\t6070 & 3.521696e+14        & 5718832             & M                   & 2016-05-19 10:11:42 & 2016-05-19          & 10                  & FALSE               & FALSE               & FALSE               & FALSE               & 0                   & FALSE               & No                 \\\\\n",
       "\t27697 & 4.228367e+11        & 5641582             & F                   & 2016-04-29 13:58:38 & 2016-05-03          & 54                  & FALSE               & FALSE               & FALSE               & FALSE               & 0                   &  TRUE               & No                 \\\\\n",
       "\t37112 & 8.665374e+12        & 5652766             & F                   & 2016-05-03 10:36:22 & 2016-05-12          & 10                  & FALSE               & FALSE               & FALSE               & FALSE               & 0                   &  TRUE               & No                 \\\\\n",
       "\t94110 & 9.441684e+13        & 5770642             & M                   & 2016-06-03 10:43:26 & 2016-06-03          &  6                  & FALSE               & FALSE               & FALSE               & FALSE               & 0                   & FALSE               & Yes                \\\\\n",
       "\t87014 & 8.951619e+13        & 5790355             & F                   & 2016-06-08 18:21:20 & 2016-06-08          & 26                  & FALSE               & FALSE               & FALSE               & FALSE               & 0                   & FALSE               & No                 \\\\\n",
       "\t86379 & 8.646381e+14        & 5700216             & F                   & 2016-05-16 09:14:10 & 2016-06-08          & 53                  & FALSE               & FALSE               & FALSE               & FALSE               & 0                   &  TRUE               & No                 \\\\\n",
       "\t26544 & 8.945722e+13        & 5674299             & M                   & 2016-05-09 10:47:20 & 2016-05-13          &  8                  & FALSE               & FALSE               & FALSE               & FALSE               & 0                   & FALSE               & No                 \\\\\n",
       "\t3810 & 1.141830e+12        & 5656294             & M                   & 2016-05-04 07:52:32 & 2016-05-04          &  2                  & FALSE               & FALSE               & FALSE               & FALSE               & 0                   & FALSE               & No                 \\\\\n",
       "\t45016 & 9.225282e+13        & 5620835             & F                   & 2016-04-26 09:30:02 & 2016-05-10          & 30                  & FALSE               & FALSE               & FALSE               & FALSE               & 0                   &  TRUE               & No                 \\\\\n",
       "\t91968 & 6.465530e+11        & 5659867             & M                   & 2016-05-04 14:56:57 & 2016-06-01          & 20                  & FALSE               & FALSE               & FALSE               & FALSE               & 0                   &  TRUE               & No                 \\\\\n",
       "\t27193 & 3.586464e+13        & 5358168             & F                   & 2016-02-17 09:29:34 & 2016-05-05          & 34                  & FALSE               & FALSE               & FALSE               & FALSE               & 0                   &  TRUE               & No                 \\\\\n",
       "\t61071 & 5.178358e+11        & 5650090             & F                   & 2016-05-03 07:27:27 & 2016-05-03          & 39                  & FALSE               &  TRUE               & FALSE               & FALSE               & 0                   & FALSE               & No                 \\\\\n",
       "\t76227 & 2.194845e+10        & 5661073             & F                   & 2016-05-05 07:11:08 & 2016-05-05          &  1                  & FALSE               & FALSE               & FALSE               & FALSE               & 0                   & FALSE               & No                 \\\\\n",
       "\t86790 & 4.473732e+13        & 5786465             & F                   & 2016-06-08 08:27:38 & 2016-06-08          & 15                  & FALSE               & FALSE               & FALSE               & FALSE               & 0                   & FALSE               & No                 \\\\\n",
       "\t33784 & 9.959983e+13        & 5672796             & M                   & 2016-05-09 08:31:05 & 2016-05-18          & 63                  &  TRUE               & FALSE               & FALSE               & FALSE               & 0                   & FALSE               & No                 \\\\\n",
       "\t82859 & 7.692877e+12        & 5646332             & M                   & 2016-05-02 11:15:16 & 2016-05-16          & 35                  & FALSE               & FALSE               & FALSE               & FALSE               & 0                   & FALSE               & Yes                \\\\\n",
       "\t65332 & 3.853879e+13        & 5656473             & F                   & 2016-05-04 08:05:20 & 2016-05-04          &  1                  & FALSE               & FALSE               & FALSE               & FALSE               & 0                   & FALSE               & No                 \\\\\n",
       "\t21726 & 6.376294e+13        & 5722054             & M                   & 2016-05-20 07:02:24 & 2016-05-24          & 84                  & FALSE               & FALSE               & FALSE               & FALSE               & 0                   &  TRUE               & No                 \\\\\n",
       "\t7001 & 7.716342e+12        & 5706327             & M                   & 2016-05-17 08:09:17 & 2016-05-17          & 56                  & FALSE               &  TRUE               & FALSE               & FALSE               & 0                   & FALSE               & No                 \\\\\n",
       "\t102655 & 2.866713e+13        & 5746721             & F                   & 2016-05-30 14:26:51 & 2016-06-01          & 15                  & FALSE               & FALSE               & FALSE               & FALSE               & 0                   & FALSE               & No                 \\\\\n",
       "\t55496 & 9.112787e+10        & 5695701             & F                   & 2016-05-13 10:45:40 & 2016-05-19          & 28                  & FALSE               &  TRUE               & FALSE               & FALSE               & 0                   & FALSE               & No                 \\\\\n",
       "\t26379 & 4.487544e+11        & 5648059             & M                   & 2016-05-02 14:57:02 & 2016-05-10          & 49                  & FALSE               &  TRUE               & FALSE               & FALSE               & 0                   &  TRUE               & Yes                \\\\\n",
       "\t6693 & 8.588500e+13        & 5707498             & F                   & 2016-05-17 09:42:05 & 2016-05-18          & 20                  & FALSE               & FALSE               & FALSE               & FALSE               & 0                   & FALSE               & No                 \\\\\n",
       "\t65223 & 2.554653e+14        & 5750706             & F                   & 2016-05-31 09:12:56 & 2016-05-31          &  0                  & FALSE               & FALSE               & FALSE               & FALSE               & 0                   & FALSE               & No                 \\\\\n",
       "\t108649 & 2.534863e+12        & 5731340             & M                   & 2016-05-24 09:52:30 & 2016-06-06          & 61                  & FALSE               &  TRUE               & FALSE               & FALSE               & 0                   &  TRUE               & No                 \\\\\n",
       "\t81437 & 1.822417e+11        & 5604812             & F                   & 2016-04-20 08:21:03 & 2016-05-24          & 56                  & FALSE               &  TRUE               & FALSE               & FALSE               & 0                   &  TRUE               & Yes                \\\\\n",
       "\t56015 & 3.223584e+12        & 5653026             & F                   & 2016-05-03 11:06:10 & 2016-05-03          & 62                  & FALSE               &  TRUE               & FALSE               & FALSE               & 0                   & FALSE               & No                 \\\\\n",
       "\t43163 & 4.241272e+14        & 5634125             & F                   & 2016-04-28 10:24:56 & 2016-05-03          &  7                  & FALSE               & FALSE               & FALSE               & FALSE               & 0                   &  TRUE               & Yes                \\\\\n",
       "\\end{tabular}\n"
      ],
      "text/markdown": [
       "\n",
       "| <!--/--> | PatientId | AppointmentID | Gender | ScheduledDay | AppointmentDay | Age | Scholarship | Hipertension | Diabetes | Alcoholism | Handcap | SMS_received | No.show |\n",
       "|---|---|---|---|---|---|---|---|---|---|---|---|---|---|\n",
       "| 1435 | 4.251315e+12        | 5541569             | F                   | 2016-04-05 08:06:54 | 2016-04-29          | 55                  | FALSE               | FALSE               | FALSE               | FALSE               | 0                   |  TRUE               | No                  |\n",
       "| 79794 | 3.626698e+13        | 5674913             | F                   | 2016-05-09 12:23:07 | 2016-05-09          | 44                  | FALSE               |  TRUE               | FALSE               | FALSE               | 0                   | FALSE               | No                  |\n",
       "| 93277 | 2.517480e+13        | 5769995             | F                   | 2016-06-03 09:34:41 | 2016-06-03          | 23                  | FALSE               | FALSE               | FALSE               | FALSE               | 0                   | FALSE               | No                  |\n",
       "| 42657 | 3.699653e+12        | 5662394             | F                   | 2016-05-05 08:29:12 | 2016-05-05          |  5                  |  TRUE               | FALSE               | FALSE               | FALSE               | 0                   | FALSE               | Yes                 |\n",
       "| 7163 | 3.875678e+13        | 5673761             | M                   | 2016-05-09 09:48:36 | 2016-05-09          | 27                  | FALSE               | FALSE               | FALSE               | FALSE               | 0                   | FALSE               | No                  |\n",
       "| 74825 | 5.231682e+14        | 5667557             | M                   | 2016-05-06 07:56:30 | 2016-05-18          |  6                  | FALSE               | FALSE               | FALSE               | FALSE               | 0                   | FALSE               | Yes                 |\n",
       "| 91817 | 9.833477e+14        | 5772814             | F                   | 2016-06-03 16:26:05 | 2016-06-07          | 72                  | FALSE               |  TRUE               | FALSE               | FALSE               | 0                   |  TRUE               | No                  |\n",
       "| 80219 | 8.563777e+12        | 5742796             | M                   | 2016-05-30 08:23:04 | 2016-05-30          |  1                  | FALSE               | FALSE               | FALSE               | FALSE               | 0                   | FALSE               | No                  |\n",
       "| 24360 | 8.599856e+14        | 5662321             | F                   | 2016-05-05 08:23:53 | 2016-05-05          | 25                  |  TRUE               | FALSE               | FALSE               | FALSE               | 0                   | FALSE               | No                  |\n",
       "| 78648 | 6.865846e+10        | 5694272             | M                   | 2016-05-13 08:25:20 | 2016-05-13          |  9                  | FALSE               | FALSE               | FALSE               | FALSE               | 0                   | FALSE               | No                  |\n",
       "| 35482 | 6.628997e+13        | 5565768             | M                   | 2016-04-11 09:23:19 | 2016-05-05          | 39                  | FALSE               | FALSE               | FALSE               | FALSE               | 0                   |  TRUE               | Yes                 |\n",
       "| 39779 | 8.679617e+14        | 5705225             | F                   | 2016-05-17 06:58:00 | 2016-05-18          | 25                  | FALSE               | FALSE               | FALSE               | FALSE               | 0                   | FALSE               | No                  |\n",
       "| 668 | 9.444243e+11        | 5621404             | F                   | 2016-04-26 10:14:19 | 2016-04-29          | 30                  | FALSE               | FALSE               | FALSE               | FALSE               | 0                   |  TRUE               | No                  |\n",
       "| 47282 | 2.689922e+11        | 5678954             | F                   | 2016-05-10 09:15:26 | 2016-05-12          | 57                  | FALSE               |  TRUE               |  TRUE               | FALSE               | 0                   | FALSE               | Yes                 |\n",
       "| 3530 | 2.841873e+11        | 5605673             | F                   | 2016-04-20 09:19:50 | 2016-05-30          | 36                  | FALSE               | FALSE               | FALSE               | FALSE               | 0                   |  TRUE               | No                  |\n",
       "| 80734 | 7.667752e+12        | 5606133             | F                   | 2016-04-20 09:51:42 | 2016-05-04          |  7                  | FALSE               | FALSE               | FALSE               | FALSE               | 0                   | FALSE               | No                  |\n",
       "| 22229 | 4.731615e+13        | 5732189             | F                   | 2016-05-24 11:07:50 | 2016-05-30          | 54                  | FALSE               | FALSE               | FALSE               | FALSE               | 0                   |  TRUE               | Yes                 |\n",
       "| 27963 | 1.818853e+13        | 5696542             | M                   | 2016-05-13 13:29:27 | 2016-05-20          |  8                  | FALSE               | FALSE               | FALSE               | FALSE               | 0                   | FALSE               | No                  |\n",
       "| 32936 | 7.237615e+13        | 5603626             | M                   | 2016-04-20 07:14:10 | 2016-05-12          | 46                  | FALSE               | FALSE               | FALSE               | FALSE               | 1                   | FALSE               | No                  |\n",
       "| 95680 | 3.481262e+13        | 5761611             | F                   | 2016-06-02 06:41:20 | 2016-06-06          | 86                  | FALSE               | FALSE               | FALSE               | FALSE               | 0                   |  TRUE               | No                  |\n",
       "| 38921 | 7.925599e+13        | 5607741             | M                   | 2016-04-20 12:18:12 | 2016-05-18          | 25                  | FALSE               | FALSE               | FALSE               | FALSE               | 0                   | FALSE               | Yes                 |\n",
       "| 52742 | 6.936997e+12        | 5726781             | F                   | 2016-05-20 14:20:28 | 2016-05-24          | 60                  | FALSE               |  TRUE               |  TRUE               | FALSE               | 0                   |  TRUE               | Yes                 |\n",
       "| 79565 | 3.555668e+13        | 5600578             | M                   | 2016-04-19 10:54:13 | 2016-05-25          | 43                  | FALSE               | FALSE               | FALSE               | FALSE               | 0                   |  TRUE               | No                  |\n",
       "| 8835 | 1.882323e+14        | 5723617             | M                   | 2016-05-20 08:26:49 | 2016-05-20          | 45                  | FALSE               | FALSE               | FALSE               | FALSE               | 0                   | FALSE               | No                  |\n",
       "| 106042 | 9.428427e+12        | 5771606             | F                   | 2016-06-03 13:24:39 | 2016-06-03          | 22                  | FALSE               | FALSE               | FALSE               | FALSE               | 0                   | FALSE               | No                  |\n",
       "| 71702 | 5.587790e+12        | 5661916             | M                   | 2016-05-05 07:54:37 | 2016-05-05          | 14                  | FALSE               | FALSE               | FALSE               | FALSE               | 0                   | FALSE               | No                  |\n",
       "| 23655 | 6.883349e+13        | 5692016             | F                   | 2016-05-12 14:13:07 | 2016-05-12          | 57                  | FALSE               | FALSE               | FALSE               | FALSE               | 0                   | FALSE               | No                  |\n",
       "| 96406 | 9.617315e+11        | 5663999             | F                   | 2016-05-05 10:54:35 | 2016-06-02          | 61                  | FALSE               | FALSE               | FALSE               | FALSE               | 0                   |  TRUE               | No                  |\n",
       "| 69398 | 2.377426e+13        | 5676046             | F                   | 2016-05-09 14:53:38 | 2016-05-17          | 27                  | FALSE               | FALSE               | FALSE               | FALSE               | 0                   | FALSE               | Yes                 |\n",
       "| 39907 | 1.875682e+12        | 5744997             | F                   | 2016-05-30 11:04:42 | 2016-05-30          | 14                  | FALSE               | FALSE               | FALSE               | FALSE               | 0                   | FALSE               | No                  |\n",
       "| ... | ... | ... | ... | ... | ... | ... | ... | ... | ... | ... | ... | ... | ... |\n",
       "| 15845 | 6.933936e+12        | 5616189             | F                   | 2016-04-25 13:40:19 | 2016-05-05          | 27                  | FALSE               | FALSE               | FALSE               | FALSE               | 0                   | FALSE               | Yes                 |\n",
       "| 36288 | 1.516640e+14        | 5685936             | M                   | 2016-05-11 11:26:30 | 2016-05-16          | 43                  | FALSE               | FALSE               | FALSE               | FALSE               | 0                   | FALSE               | Yes                 |\n",
       "| 6070 | 3.521696e+14        | 5718832             | M                   | 2016-05-19 10:11:42 | 2016-05-19          | 10                  | FALSE               | FALSE               | FALSE               | FALSE               | 0                   | FALSE               | No                  |\n",
       "| 27697 | 4.228367e+11        | 5641582             | F                   | 2016-04-29 13:58:38 | 2016-05-03          | 54                  | FALSE               | FALSE               | FALSE               | FALSE               | 0                   |  TRUE               | No                  |\n",
       "| 37112 | 8.665374e+12        | 5652766             | F                   | 2016-05-03 10:36:22 | 2016-05-12          | 10                  | FALSE               | FALSE               | FALSE               | FALSE               | 0                   |  TRUE               | No                  |\n",
       "| 94110 | 9.441684e+13        | 5770642             | M                   | 2016-06-03 10:43:26 | 2016-06-03          |  6                  | FALSE               | FALSE               | FALSE               | FALSE               | 0                   | FALSE               | Yes                 |\n",
       "| 87014 | 8.951619e+13        | 5790355             | F                   | 2016-06-08 18:21:20 | 2016-06-08          | 26                  | FALSE               | FALSE               | FALSE               | FALSE               | 0                   | FALSE               | No                  |\n",
       "| 86379 | 8.646381e+14        | 5700216             | F                   | 2016-05-16 09:14:10 | 2016-06-08          | 53                  | FALSE               | FALSE               | FALSE               | FALSE               | 0                   |  TRUE               | No                  |\n",
       "| 26544 | 8.945722e+13        | 5674299             | M                   | 2016-05-09 10:47:20 | 2016-05-13          |  8                  | FALSE               | FALSE               | FALSE               | FALSE               | 0                   | FALSE               | No                  |\n",
       "| 3810 | 1.141830e+12        | 5656294             | M                   | 2016-05-04 07:52:32 | 2016-05-04          |  2                  | FALSE               | FALSE               | FALSE               | FALSE               | 0                   | FALSE               | No                  |\n",
       "| 45016 | 9.225282e+13        | 5620835             | F                   | 2016-04-26 09:30:02 | 2016-05-10          | 30                  | FALSE               | FALSE               | FALSE               | FALSE               | 0                   |  TRUE               | No                  |\n",
       "| 91968 | 6.465530e+11        | 5659867             | M                   | 2016-05-04 14:56:57 | 2016-06-01          | 20                  | FALSE               | FALSE               | FALSE               | FALSE               | 0                   |  TRUE               | No                  |\n",
       "| 27193 | 3.586464e+13        | 5358168             | F                   | 2016-02-17 09:29:34 | 2016-05-05          | 34                  | FALSE               | FALSE               | FALSE               | FALSE               | 0                   |  TRUE               | No                  |\n",
       "| 61071 | 5.178358e+11        | 5650090             | F                   | 2016-05-03 07:27:27 | 2016-05-03          | 39                  | FALSE               |  TRUE               | FALSE               | FALSE               | 0                   | FALSE               | No                  |\n",
       "| 76227 | 2.194845e+10        | 5661073             | F                   | 2016-05-05 07:11:08 | 2016-05-05          |  1                  | FALSE               | FALSE               | FALSE               | FALSE               | 0                   | FALSE               | No                  |\n",
       "| 86790 | 4.473732e+13        | 5786465             | F                   | 2016-06-08 08:27:38 | 2016-06-08          | 15                  | FALSE               | FALSE               | FALSE               | FALSE               | 0                   | FALSE               | No                  |\n",
       "| 33784 | 9.959983e+13        | 5672796             | M                   | 2016-05-09 08:31:05 | 2016-05-18          | 63                  |  TRUE               | FALSE               | FALSE               | FALSE               | 0                   | FALSE               | No                  |\n",
       "| 82859 | 7.692877e+12        | 5646332             | M                   | 2016-05-02 11:15:16 | 2016-05-16          | 35                  | FALSE               | FALSE               | FALSE               | FALSE               | 0                   | FALSE               | Yes                 |\n",
       "| 65332 | 3.853879e+13        | 5656473             | F                   | 2016-05-04 08:05:20 | 2016-05-04          |  1                  | FALSE               | FALSE               | FALSE               | FALSE               | 0                   | FALSE               | No                  |\n",
       "| 21726 | 6.376294e+13        | 5722054             | M                   | 2016-05-20 07:02:24 | 2016-05-24          | 84                  | FALSE               | FALSE               | FALSE               | FALSE               | 0                   |  TRUE               | No                  |\n",
       "| 7001 | 7.716342e+12        | 5706327             | M                   | 2016-05-17 08:09:17 | 2016-05-17          | 56                  | FALSE               |  TRUE               | FALSE               | FALSE               | 0                   | FALSE               | No                  |\n",
       "| 102655 | 2.866713e+13        | 5746721             | F                   | 2016-05-30 14:26:51 | 2016-06-01          | 15                  | FALSE               | FALSE               | FALSE               | FALSE               | 0                   | FALSE               | No                  |\n",
       "| 55496 | 9.112787e+10        | 5695701             | F                   | 2016-05-13 10:45:40 | 2016-05-19          | 28                  | FALSE               |  TRUE               | FALSE               | FALSE               | 0                   | FALSE               | No                  |\n",
       "| 26379 | 4.487544e+11        | 5648059             | M                   | 2016-05-02 14:57:02 | 2016-05-10          | 49                  | FALSE               |  TRUE               | FALSE               | FALSE               | 0                   |  TRUE               | Yes                 |\n",
       "| 6693 | 8.588500e+13        | 5707498             | F                   | 2016-05-17 09:42:05 | 2016-05-18          | 20                  | FALSE               | FALSE               | FALSE               | FALSE               | 0                   | FALSE               | No                  |\n",
       "| 65223 | 2.554653e+14        | 5750706             | F                   | 2016-05-31 09:12:56 | 2016-05-31          |  0                  | FALSE               | FALSE               | FALSE               | FALSE               | 0                   | FALSE               | No                  |\n",
       "| 108649 | 2.534863e+12        | 5731340             | M                   | 2016-05-24 09:52:30 | 2016-06-06          | 61                  | FALSE               |  TRUE               | FALSE               | FALSE               | 0                   |  TRUE               | No                  |\n",
       "| 81437 | 1.822417e+11        | 5604812             | F                   | 2016-04-20 08:21:03 | 2016-05-24          | 56                  | FALSE               |  TRUE               | FALSE               | FALSE               | 0                   |  TRUE               | Yes                 |\n",
       "| 56015 | 3.223584e+12        | 5653026             | F                   | 2016-05-03 11:06:10 | 2016-05-03          | 62                  | FALSE               |  TRUE               | FALSE               | FALSE               | 0                   | FALSE               | No                  |\n",
       "| 43163 | 4.241272e+14        | 5634125             | F                   | 2016-04-28 10:24:56 | 2016-05-03          |  7                  | FALSE               | FALSE               | FALSE               | FALSE               | 0                   |  TRUE               | Yes                 |\n",
       "\n"
      ],
      "text/plain": [
       "       PatientId    AppointmentID Gender ScheduledDay        AppointmentDay Age\n",
       "1435   4.251315e+12 5541569       F      2016-04-05 08:06:54 2016-04-29     55 \n",
       "79794  3.626698e+13 5674913       F      2016-05-09 12:23:07 2016-05-09     44 \n",
       "93277  2.517480e+13 5769995       F      2016-06-03 09:34:41 2016-06-03     23 \n",
       "42657  3.699653e+12 5662394       F      2016-05-05 08:29:12 2016-05-05      5 \n",
       "7163   3.875678e+13 5673761       M      2016-05-09 09:48:36 2016-05-09     27 \n",
       "74825  5.231682e+14 5667557       M      2016-05-06 07:56:30 2016-05-18      6 \n",
       "91817  9.833477e+14 5772814       F      2016-06-03 16:26:05 2016-06-07     72 \n",
       "80219  8.563777e+12 5742796       M      2016-05-30 08:23:04 2016-05-30      1 \n",
       "24360  8.599856e+14 5662321       F      2016-05-05 08:23:53 2016-05-05     25 \n",
       "78648  6.865846e+10 5694272       M      2016-05-13 08:25:20 2016-05-13      9 \n",
       "35482  6.628997e+13 5565768       M      2016-04-11 09:23:19 2016-05-05     39 \n",
       "39779  8.679617e+14 5705225       F      2016-05-17 06:58:00 2016-05-18     25 \n",
       "668    9.444243e+11 5621404       F      2016-04-26 10:14:19 2016-04-29     30 \n",
       "47282  2.689922e+11 5678954       F      2016-05-10 09:15:26 2016-05-12     57 \n",
       "3530   2.841873e+11 5605673       F      2016-04-20 09:19:50 2016-05-30     36 \n",
       "80734  7.667752e+12 5606133       F      2016-04-20 09:51:42 2016-05-04      7 \n",
       "22229  4.731615e+13 5732189       F      2016-05-24 11:07:50 2016-05-30     54 \n",
       "27963  1.818853e+13 5696542       M      2016-05-13 13:29:27 2016-05-20      8 \n",
       "32936  7.237615e+13 5603626       M      2016-04-20 07:14:10 2016-05-12     46 \n",
       "95680  3.481262e+13 5761611       F      2016-06-02 06:41:20 2016-06-06     86 \n",
       "38921  7.925599e+13 5607741       M      2016-04-20 12:18:12 2016-05-18     25 \n",
       "52742  6.936997e+12 5726781       F      2016-05-20 14:20:28 2016-05-24     60 \n",
       "79565  3.555668e+13 5600578       M      2016-04-19 10:54:13 2016-05-25     43 \n",
       "8835   1.882323e+14 5723617       M      2016-05-20 08:26:49 2016-05-20     45 \n",
       "106042 9.428427e+12 5771606       F      2016-06-03 13:24:39 2016-06-03     22 \n",
       "71702  5.587790e+12 5661916       M      2016-05-05 07:54:37 2016-05-05     14 \n",
       "23655  6.883349e+13 5692016       F      2016-05-12 14:13:07 2016-05-12     57 \n",
       "96406  9.617315e+11 5663999       F      2016-05-05 10:54:35 2016-06-02     61 \n",
       "69398  2.377426e+13 5676046       F      2016-05-09 14:53:38 2016-05-17     27 \n",
       "39907  1.875682e+12 5744997       F      2016-05-30 11:04:42 2016-05-30     14 \n",
       "...    ...          ...           ...    ...                 ...            ...\n",
       "15845  6.933936e+12 5616189       F      2016-04-25 13:40:19 2016-05-05     27 \n",
       "36288  1.516640e+14 5685936       M      2016-05-11 11:26:30 2016-05-16     43 \n",
       "6070   3.521696e+14 5718832       M      2016-05-19 10:11:42 2016-05-19     10 \n",
       "27697  4.228367e+11 5641582       F      2016-04-29 13:58:38 2016-05-03     54 \n",
       "37112  8.665374e+12 5652766       F      2016-05-03 10:36:22 2016-05-12     10 \n",
       "94110  9.441684e+13 5770642       M      2016-06-03 10:43:26 2016-06-03      6 \n",
       "87014  8.951619e+13 5790355       F      2016-06-08 18:21:20 2016-06-08     26 \n",
       "86379  8.646381e+14 5700216       F      2016-05-16 09:14:10 2016-06-08     53 \n",
       "26544  8.945722e+13 5674299       M      2016-05-09 10:47:20 2016-05-13      8 \n",
       "3810   1.141830e+12 5656294       M      2016-05-04 07:52:32 2016-05-04      2 \n",
       "45016  9.225282e+13 5620835       F      2016-04-26 09:30:02 2016-05-10     30 \n",
       "91968  6.465530e+11 5659867       M      2016-05-04 14:56:57 2016-06-01     20 \n",
       "27193  3.586464e+13 5358168       F      2016-02-17 09:29:34 2016-05-05     34 \n",
       "61071  5.178358e+11 5650090       F      2016-05-03 07:27:27 2016-05-03     39 \n",
       "76227  2.194845e+10 5661073       F      2016-05-05 07:11:08 2016-05-05      1 \n",
       "86790  4.473732e+13 5786465       F      2016-06-08 08:27:38 2016-06-08     15 \n",
       "33784  9.959983e+13 5672796       M      2016-05-09 08:31:05 2016-05-18     63 \n",
       "82859  7.692877e+12 5646332       M      2016-05-02 11:15:16 2016-05-16     35 \n",
       "65332  3.853879e+13 5656473       F      2016-05-04 08:05:20 2016-05-04      1 \n",
       "21726  6.376294e+13 5722054       M      2016-05-20 07:02:24 2016-05-24     84 \n",
       "7001   7.716342e+12 5706327       M      2016-05-17 08:09:17 2016-05-17     56 \n",
       "102655 2.866713e+13 5746721       F      2016-05-30 14:26:51 2016-06-01     15 \n",
       "55496  9.112787e+10 5695701       F      2016-05-13 10:45:40 2016-05-19     28 \n",
       "26379  4.487544e+11 5648059       M      2016-05-02 14:57:02 2016-05-10     49 \n",
       "6693   8.588500e+13 5707498       F      2016-05-17 09:42:05 2016-05-18     20 \n",
       "65223  2.554653e+14 5750706       F      2016-05-31 09:12:56 2016-05-31      0 \n",
       "108649 2.534863e+12 5731340       M      2016-05-24 09:52:30 2016-06-06     61 \n",
       "81437  1.822417e+11 5604812       F      2016-04-20 08:21:03 2016-05-24     56 \n",
       "56015  3.223584e+12 5653026       F      2016-05-03 11:06:10 2016-05-03     62 \n",
       "43163  4.241272e+14 5634125       F      2016-04-28 10:24:56 2016-05-03      7 \n",
       "       Scholarship Hipertension Diabetes Alcoholism Handcap SMS_received\n",
       "1435   FALSE       FALSE        FALSE    FALSE      0        TRUE       \n",
       "79794  FALSE        TRUE        FALSE    FALSE      0       FALSE       \n",
       "93277  FALSE       FALSE        FALSE    FALSE      0       FALSE       \n",
       "42657   TRUE       FALSE        FALSE    FALSE      0       FALSE       \n",
       "7163   FALSE       FALSE        FALSE    FALSE      0       FALSE       \n",
       "74825  FALSE       FALSE        FALSE    FALSE      0       FALSE       \n",
       "91817  FALSE        TRUE        FALSE    FALSE      0        TRUE       \n",
       "80219  FALSE       FALSE        FALSE    FALSE      0       FALSE       \n",
       "24360   TRUE       FALSE        FALSE    FALSE      0       FALSE       \n",
       "78648  FALSE       FALSE        FALSE    FALSE      0       FALSE       \n",
       "35482  FALSE       FALSE        FALSE    FALSE      0        TRUE       \n",
       "39779  FALSE       FALSE        FALSE    FALSE      0       FALSE       \n",
       "668    FALSE       FALSE        FALSE    FALSE      0        TRUE       \n",
       "47282  FALSE        TRUE         TRUE    FALSE      0       FALSE       \n",
       "3530   FALSE       FALSE        FALSE    FALSE      0        TRUE       \n",
       "80734  FALSE       FALSE        FALSE    FALSE      0       FALSE       \n",
       "22229  FALSE       FALSE        FALSE    FALSE      0        TRUE       \n",
       "27963  FALSE       FALSE        FALSE    FALSE      0       FALSE       \n",
       "32936  FALSE       FALSE        FALSE    FALSE      1       FALSE       \n",
       "95680  FALSE       FALSE        FALSE    FALSE      0        TRUE       \n",
       "38921  FALSE       FALSE        FALSE    FALSE      0       FALSE       \n",
       "52742  FALSE        TRUE         TRUE    FALSE      0        TRUE       \n",
       "79565  FALSE       FALSE        FALSE    FALSE      0        TRUE       \n",
       "8835   FALSE       FALSE        FALSE    FALSE      0       FALSE       \n",
       "106042 FALSE       FALSE        FALSE    FALSE      0       FALSE       \n",
       "71702  FALSE       FALSE        FALSE    FALSE      0       FALSE       \n",
       "23655  FALSE       FALSE        FALSE    FALSE      0       FALSE       \n",
       "96406  FALSE       FALSE        FALSE    FALSE      0        TRUE       \n",
       "69398  FALSE       FALSE        FALSE    FALSE      0       FALSE       \n",
       "39907  FALSE       FALSE        FALSE    FALSE      0       FALSE       \n",
       "...    ...         ...          ...      ...        ...     ...         \n",
       "15845  FALSE       FALSE        FALSE    FALSE      0       FALSE       \n",
       "36288  FALSE       FALSE        FALSE    FALSE      0       FALSE       \n",
       "6070   FALSE       FALSE        FALSE    FALSE      0       FALSE       \n",
       "27697  FALSE       FALSE        FALSE    FALSE      0        TRUE       \n",
       "37112  FALSE       FALSE        FALSE    FALSE      0        TRUE       \n",
       "94110  FALSE       FALSE        FALSE    FALSE      0       FALSE       \n",
       "87014  FALSE       FALSE        FALSE    FALSE      0       FALSE       \n",
       "86379  FALSE       FALSE        FALSE    FALSE      0        TRUE       \n",
       "26544  FALSE       FALSE        FALSE    FALSE      0       FALSE       \n",
       "3810   FALSE       FALSE        FALSE    FALSE      0       FALSE       \n",
       "45016  FALSE       FALSE        FALSE    FALSE      0        TRUE       \n",
       "91968  FALSE       FALSE        FALSE    FALSE      0        TRUE       \n",
       "27193  FALSE       FALSE        FALSE    FALSE      0        TRUE       \n",
       "61071  FALSE        TRUE        FALSE    FALSE      0       FALSE       \n",
       "76227  FALSE       FALSE        FALSE    FALSE      0       FALSE       \n",
       "86790  FALSE       FALSE        FALSE    FALSE      0       FALSE       \n",
       "33784   TRUE       FALSE        FALSE    FALSE      0       FALSE       \n",
       "82859  FALSE       FALSE        FALSE    FALSE      0       FALSE       \n",
       "65332  FALSE       FALSE        FALSE    FALSE      0       FALSE       \n",
       "21726  FALSE       FALSE        FALSE    FALSE      0        TRUE       \n",
       "7001   FALSE        TRUE        FALSE    FALSE      0       FALSE       \n",
       "102655 FALSE       FALSE        FALSE    FALSE      0       FALSE       \n",
       "55496  FALSE        TRUE        FALSE    FALSE      0       FALSE       \n",
       "26379  FALSE        TRUE        FALSE    FALSE      0        TRUE       \n",
       "6693   FALSE       FALSE        FALSE    FALSE      0       FALSE       \n",
       "65223  FALSE       FALSE        FALSE    FALSE      0       FALSE       \n",
       "108649 FALSE        TRUE        FALSE    FALSE      0        TRUE       \n",
       "81437  FALSE        TRUE        FALSE    FALSE      0        TRUE       \n",
       "56015  FALSE        TRUE        FALSE    FALSE      0       FALSE       \n",
       "43163  FALSE       FALSE        FALSE    FALSE      0        TRUE       \n",
       "       No.show\n",
       "1435   No     \n",
       "79794  No     \n",
       "93277  No     \n",
       "42657  Yes    \n",
       "7163   No     \n",
       "74825  Yes    \n",
       "91817  No     \n",
       "80219  No     \n",
       "24360  No     \n",
       "78648  No     \n",
       "35482  Yes    \n",
       "39779  No     \n",
       "668    No     \n",
       "47282  Yes    \n",
       "3530   No     \n",
       "80734  No     \n",
       "22229  Yes    \n",
       "27963  No     \n",
       "32936  No     \n",
       "95680  No     \n",
       "38921  Yes    \n",
       "52742  Yes    \n",
       "79565  No     \n",
       "8835   No     \n",
       "106042 No     \n",
       "71702  No     \n",
       "23655  No     \n",
       "96406  No     \n",
       "69398  Yes    \n",
       "39907  No     \n",
       "...    ...    \n",
       "15845  Yes    \n",
       "36288  Yes    \n",
       "6070   No     \n",
       "27697  No     \n",
       "37112  No     \n",
       "94110  Yes    \n",
       "87014  No     \n",
       "86379  No     \n",
       "26544  No     \n",
       "3810   No     \n",
       "45016  No     \n",
       "91968  No     \n",
       "27193  No     \n",
       "61071  No     \n",
       "76227  No     \n",
       "86790  No     \n",
       "33784  No     \n",
       "82859  Yes    \n",
       "65332  No     \n",
       "21726  No     \n",
       "7001   No     \n",
       "102655 No     \n",
       "55496  No     \n",
       "26379  Yes    \n",
       "6693   No     \n",
       "65223  No     \n",
       "108649 No     \n",
       "81437  Yes    \n",
       "56015  No     \n",
       "43163  Yes    "
      ]
     },
     "metadata": {},
     "output_type": "display_data"
    }
   ],
   "source": [
    "newdata_test"
   ]
  },
  {
   "cell_type": "code",
   "execution_count": 23,
   "metadata": {},
   "outputs": [],
   "source": [
    "# trainControl is used to control the computational nuances of the train function\n",
    "fitControl <- trainControl(method = \"cv\",\n",
    "                           number = 5,\n",
    "                           #savePredictions=\"final\",\n",
    "                           summaryFunction = twoClassSummary,\n",
    "                           classProbs = TRUE\n",
    "                           )"
   ]
  },
  {
   "cell_type": "markdown",
   "metadata": {},
   "source": [
    "# Logistic Regression\n",
    "\n",
    "## Model 1\n",
    "\n",
    "We first start by building a model with all the variables in it"
   ]
  },
  {
   "cell_type": "code",
   "execution_count": 24,
   "metadata": {},
   "outputs": [],
   "source": [
    "train_glm1 <- train(No.show~., \n",
    "                   newdata_train,\n",
    "                   method = \"glm\",\n",
    "                   metric = \"ROC\",\n",
    "                   preProc = c(\"center\", \"scale\"),\n",
    "                   trControl = fitControl)"
   ]
  },
  {
   "cell_type": "code",
   "execution_count": 25,
   "metadata": {},
   "outputs": [
    {
     "data": {
      "text/plain": [
       "\n",
       "Call:\n",
       "NULL\n",
       "\n",
       "Deviance Residuals: \n",
       "    Min       1Q   Median       3Q      Max  \n",
       "-2.2623  -0.6754  -0.5814  -0.4958   2.2071  \n",
       "\n",
       "Coefficients:\n",
       "                  Estimate Std. Error  z value Pr(>|z|)    \n",
       "(Intercept)      -1.428637   0.009396 -152.050  < 2e-16 ***\n",
       "PatientId        -0.007136   0.009189   -0.777   0.4374    \n",
       "AppointmentID    -0.147278   0.159196   -0.925   0.3549    \n",
       "GenderM           0.001557   0.009355    0.166   0.8678    \n",
       "ScheduledDay     -0.285987   0.160184   -1.785   0.0742 .  \n",
       "AppointmentDay    0.191308   0.011431   16.736  < 2e-16 ***\n",
       "Age              -0.166894   0.010971  -15.212  < 2e-16 ***\n",
       "ScholarshipTRUE   0.068130   0.008793    7.748 9.30e-15 ***\n",
       "HipertensionTRUE -0.015584   0.011827   -1.318   0.1876    \n",
       "DiabetesTRUE      0.027370   0.010662    2.567   0.0103 *  \n",
       "AlcoholismTRUE    0.038762   0.009183    4.221 2.43e-05 ***\n",
       "Handcap           0.007741   0.009458    0.818   0.4131    \n",
       "SMS_receivedTRUE  0.178277   0.009407   18.952  < 2e-16 ***\n",
       "---\n",
       "Signif. codes:  0 '***' 0.001 '**' 0.01 '*' 0.05 '.' 0.1 ' ' 1\n",
       "\n",
       "(Dispersion parameter for binomial family taken to be 1)\n",
       "\n",
       "    Null deviance: 78153  on 77368  degrees of freedom\n",
       "Residual deviance: 75008  on 77356  degrees of freedom\n",
       "AIC: 75034\n",
       "\n",
       "Number of Fisher Scoring iterations: 4\n"
      ]
     },
     "metadata": {},
     "output_type": "display_data"
    }
   ],
   "source": [
    "summary(train_glm1)"
   ]
  },
  {
   "cell_type": "code",
   "execution_count": 26,
   "metadata": {},
   "outputs": [],
   "source": [
    "#There are 5 terms that are insignificant in the above logistic regression model"
   ]
  },
  {
   "cell_type": "markdown",
   "metadata": {},
   "source": [
    "## Model 2\n",
    "\n",
    "Now we remove some of the insignificant terms (p < 0.05) and try new models"
   ]
  },
  {
   "cell_type": "code",
   "execution_count": 27,
   "metadata": {},
   "outputs": [],
   "source": [
    "train_glm2 <- train(No.show~.-AppointmentDay-Age-Scholarship-Hipertension-SMS_received, \n",
    "                   newdata_train,\n",
    "                   method = \"glm\",\n",
    "                   metric = \"ROC\",\n",
    "                   preProc = c(\"center\", \"scale\"),\n",
    "                   trControl = fitControl)"
   ]
  },
  {
   "cell_type": "code",
   "execution_count": 28,
   "metadata": {},
   "outputs": [
    {
     "data": {
      "text/plain": [
       "\n",
       "Call:\n",
       "NULL\n",
       "\n",
       "Deviance Residuals: \n",
       "    Min       1Q   Median       3Q      Max  \n",
       "-2.0387  -0.6923  -0.6153  -0.5241   2.0974  \n",
       "\n",
       "Coefficients:\n",
       "                Estimate Std. Error  z value Pr(>|z|)    \n",
       "(Intercept)    -1.403731   0.009207 -152.469  < 2e-16 ***\n",
       "PatientId      -0.007762   0.009098   -0.853 0.393589    \n",
       "AppointmentID  -0.302113   0.158726   -1.903 0.056994 .  \n",
       "GenderM         0.001771   0.009113    0.194 0.845903    \n",
       "ScheduledDay   -0.066794   0.159211   -0.420 0.674829    \n",
       "DiabetesTRUE   -0.032983   0.009457   -3.488 0.000487 ***\n",
       "AlcoholismTRUE  0.017374   0.009026    1.925 0.054235 .  \n",
       "Handcap        -0.009379   0.009433   -0.994 0.320088    \n",
       "---\n",
       "Signif. codes:  0 '***' 0.001 '**' 0.01 '*' 0.05 '.' 0.1 ' ' 1\n",
       "\n",
       "(Dispersion parameter for binomial family taken to be 1)\n",
       "\n",
       "    Null deviance: 78153  on 77368  degrees of freedom\n",
       "Residual deviance: 76265  on 77361  degrees of freedom\n",
       "AIC: 76281\n",
       "\n",
       "Number of Fisher Scoring iterations: 4\n"
      ]
     },
     "metadata": {},
     "output_type": "display_data"
    }
   ],
   "source": [
    "\n",
    "summary(train_glm2)"
   ]
  },
  {
   "cell_type": "markdown",
   "metadata": {},
   "source": [
    "## Model 3\n",
    "\n",
    "Next we try different combinations of interaction terms and use one that is significant"
   ]
  },
  {
   "cell_type": "code",
   "execution_count": 29,
   "metadata": {},
   "outputs": [],
   "source": [
    "train_glm3 <- train(No.show~.+Alcoholism*Handcap*Gender-AppointmentDay-Age-Scholarship, \n",
    "                   newdata_train,\n",
    "                   method = \"glm\",\n",
    "                   metric = \"ROC\",\n",
    "                   preProc = c(\"center\", \"scale\"),\n",
    "                   trControl = fitControl)"
   ]
  },
  {
   "cell_type": "code",
   "execution_count": 30,
   "metadata": {},
   "outputs": [
    {
     "data": {
      "text/plain": [
       "\n",
       "Call:\n",
       "NULL\n",
       "\n",
       "Deviance Residuals: \n",
       "    Min       1Q   Median       3Q      Max  \n",
       "-1.9585  -0.6774  -0.5952  -0.5027   2.3082  \n",
       "\n",
       "Coefficients:\n",
       "                                  Estimate Std. Error  z value Pr(>|z|)    \n",
       "(Intercept)                      -1.420347   0.009334 -152.171  < 2e-16 ***\n",
       "PatientId                        -0.006284   0.009143   -0.687   0.4919    \n",
       "AppointmentID                    -0.268688   0.157539   -1.706   0.0881 .  \n",
       "GenderM                           0.016384   0.009396    1.744   0.0812 .  \n",
       "ScheduledDay                     -0.043862   0.158029   -0.278   0.7814    \n",
       "HipertensionTRUE                 -0.092642   0.010614   -8.729  < 2e-16 ***\n",
       "DiabetesTRUE                      0.008299   0.010517    0.789   0.4300    \n",
       "AlcoholismTRUE                    0.080885   0.013703    5.903 3.57e-09 ***\n",
       "Handcap                           0.013582   0.012180    1.115   0.2648    \n",
       "SMS_receivedTRUE                  0.223182   0.008962   24.903  < 2e-16 ***\n",
       "`AlcoholismTRUE:Handcap`         -0.051764   0.031757   -1.630   0.1031    \n",
       "`GenderM:AlcoholismTRUE`         -0.069304   0.014636   -4.735 2.19e-06 ***\n",
       "`GenderM:Handcap`                -0.016951   0.012895   -1.315   0.1887    \n",
       "`GenderM:AlcoholismTRUE:Handcap`  0.040362   0.030482    1.324   0.1855    \n",
       "---\n",
       "Signif. codes:  0 '***' 0.001 '**' 0.01 '*' 0.05 '.' 0.1 ' ' 1\n",
       "\n",
       "(Dispersion parameter for binomial family taken to be 1)\n",
       "\n",
       "    Null deviance: 78153  on 77368  degrees of freedom\n",
       "Residual deviance: 75550  on 77355  degrees of freedom\n",
       "AIC: 75578\n",
       "\n",
       "Number of Fisher Scoring iterations: 4\n"
      ]
     },
     "metadata": {},
     "output_type": "display_data"
    }
   ],
   "source": [
    "summary(train_glm3)"
   ]
  },
  {
   "cell_type": "code",
   "execution_count": 31,
   "metadata": {},
   "outputs": [],
   "source": [
    "## Making predictions on the test data\n",
    "\n",
    "## Predictions based on model 1"
   ]
  },
  {
   "cell_type": "code",
   "execution_count": 32,
   "metadata": {},
   "outputs": [
    {
     "data": {
      "text/html": [
       "<dl class=dl-horizontal>\n",
       "\t<dt>No</dt>\n",
       "\t\t<dd>32808</dd>\n",
       "\t<dt>Yes</dt>\n",
       "\t\t<dd>350</dd>\n",
       "</dl>\n"
      ],
      "text/latex": [
       "\\begin{description*}\n",
       "\\item[No] 32808\n",
       "\\item[Yes] 350\n",
       "\\end{description*}\n"
      ],
      "text/markdown": [
       "No\n",
       ":   32808Yes\n",
       ":   350\n",
       "\n"
      ],
      "text/plain": [
       "   No   Yes \n",
       "32808   350 "
      ]
     },
     "metadata": {},
     "output_type": "display_data"
    }
   ],
   "source": [
    "test_glm1 <- predict(train_glm1, newdata_test)\n",
    "summary(test_glm1)"
   ]
  },
  {
   "cell_type": "code",
   "execution_count": 33,
   "metadata": {},
   "outputs": [],
   "source": [
    "## Predictions based on model 2"
   ]
  },
  {
   "cell_type": "code",
   "execution_count": 34,
   "metadata": {},
   "outputs": [
    {
     "data": {
      "text/html": [
       "<dl class=dl-horizontal>\n",
       "\t<dt>No</dt>\n",
       "\t\t<dd>33045</dd>\n",
       "\t<dt>Yes</dt>\n",
       "\t\t<dd>113</dd>\n",
       "</dl>\n"
      ],
      "text/latex": [
       "\\begin{description*}\n",
       "\\item[No] 33045\n",
       "\\item[Yes] 113\n",
       "\\end{description*}\n"
      ],
      "text/markdown": [
       "No\n",
       ":   33045Yes\n",
       ":   113\n",
       "\n"
      ],
      "text/plain": [
       "   No   Yes \n",
       "33045   113 "
      ]
     },
     "metadata": {},
     "output_type": "display_data"
    }
   ],
   "source": [
    "test_glm2 <- predict(train_glm2, newdata_test)\n",
    "summary(test_glm2)"
   ]
  },
  {
   "cell_type": "code",
   "execution_count": 35,
   "metadata": {},
   "outputs": [],
   "source": [
    "## Predictions based on model 3"
   ]
  },
  {
   "cell_type": "code",
   "execution_count": 51,
   "metadata": {},
   "outputs": [
    {
     "data": {
      "text/html": [
       "<dl class=dl-horizontal>\n",
       "\t<dt>No</dt>\n",
       "\t\t<dd>32938</dd>\n",
       "\t<dt>Yes</dt>\n",
       "\t\t<dd>220</dd>\n",
       "</dl>\n"
      ],
      "text/latex": [
       "\\begin{description*}\n",
       "\\item[No] 32938\n",
       "\\item[Yes] 220\n",
       "\\end{description*}\n"
      ],
      "text/markdown": [
       "No\n",
       ":   32938Yes\n",
       ":   220\n",
       "\n"
      ],
      "text/plain": [
       "   No   Yes \n",
       "32938   220 "
      ]
     },
     "metadata": {},
     "output_type": "display_data"
    }
   ],
   "source": [
    "test_glm3 <- predict(train_glm3, newdata_test)\n",
    "summary(test_glm3)"
   ]
  },
  {
   "cell_type": "markdown",
   "metadata": {},
   "source": [
    "## Checking performance of prediction models\n",
    "\n",
    "## Confusion matrix for model 1"
   ]
  },
  {
   "cell_type": "code",
   "execution_count": 37,
   "metadata": {},
   "outputs": [
    {
     "name": "stdout",
     "output_type": "stream",
     "text": [
      "package 'e1071' successfully unpacked and MD5 sums checked\n"
     ]
    },
    {
     "name": "stderr",
     "output_type": "stream",
     "text": [
      "Warning message:\n",
      "\"cannot remove prior installation of package 'e1071'\"Warning message in file.copy(savedcopy, lib, recursive = TRUE):\n",
      "\"problem copying C:\\ProgramData\\Anaconda3\\Lib\\R\\library\\00LOCK\\e1071\\libs\\x64\\e1071.dll to C:\\ProgramData\\Anaconda3\\Lib\\R\\library\\e1071\\libs\\x64\\e1071.dll: Permission denied\"Warning message:\n",
      "\"restored 'e1071'\""
     ]
    },
    {
     "name": "stdout",
     "output_type": "stream",
     "text": [
      "\n",
      "The downloaded binary packages are in\n",
      "\tC:\\Users\\Administrator\\AppData\\Local\\Temp\\Rtmp6xXxp0\\downloaded_packages\n"
     ]
    }
   ],
   "source": [
    "install.packages('e1071', dependencies=TRUE)"
   ]
  },
  {
   "cell_type": "code",
   "execution_count": 38,
   "metadata": {},
   "outputs": [
    {
     "name": "stderr",
     "output_type": "stream",
     "text": [
      "Warning message:\n",
      "\"package 'e1071' was built under R version 3.6.3\""
     ]
    }
   ],
   "source": [
    "library('e1071')"
   ]
  },
  {
   "cell_type": "code",
   "execution_count": 49,
   "metadata": {},
   "outputs": [
    {
     "ename": "ERROR",
     "evalue": "Error in match.arg(norm, c(\"none\", \"overall\", \"average\")): 'arg' must be NULL or a character vector\n",
     "output_type": "error",
     "traceback": [
      "Error in match.arg(norm, c(\"none\", \"overall\", \"average\")): 'arg' must be NULL or a character vector\nTraceback:\n",
      "1. confusionMatrix(train_glm1, newdata_train$No.show)",
      "2. confusionMatrix.train(train_glm1, newdata_train$No.show)",
      "3. match.arg(norm, c(\"none\", \"overall\", \"average\"))",
      "4. stop(\"'arg' must be NULL or a character vector\")"
     ]
    }
   ],
   "source": [
    "cm1 <- confusionMatrix(test_glm1, newdata_test$No.show, positive = NULL)\n",
    "cm_train <- confusionMatrix(train_glm1, newdata_train$No.show)"
   ]
  },
  {
   "cell_type": "code",
   "execution_count": 40,
   "metadata": {},
   "outputs": [
    {
     "data": {
      "text/plain": [
       "Confusion Matrix and Statistics\n",
       "\n",
       "          Reference\n",
       "Prediction    No   Yes\n",
       "       No  26342  6466\n",
       "       Yes   233   117\n",
       "                                          \n",
       "               Accuracy : 0.798           \n",
       "                 95% CI : (0.7936, 0.8023)\n",
       "    No Information Rate : 0.8015          \n",
       "    P-Value [Acc > NIR] : 0.9454          \n",
       "                                          \n",
       "                  Kappa : 0.014           \n",
       "                                          \n",
       " Mcnemar's Test P-Value : <2e-16          \n",
       "                                          \n",
       "            Sensitivity : 0.99123         \n",
       "            Specificity : 0.01777         \n",
       "         Pos Pred Value : 0.80291         \n",
       "         Neg Pred Value : 0.33429         \n",
       "             Prevalence : 0.80147         \n",
       "         Detection Rate : 0.79444         \n",
       "   Detection Prevalence : 0.98944         \n",
       "      Balanced Accuracy : 0.50450         \n",
       "                                          \n",
       "       'Positive' Class : No              \n",
       "                                          "
      ]
     },
     "metadata": {},
     "output_type": "display_data"
    }
   ],
   "source": [
    "cm1"
   ]
  },
  {
   "cell_type": "code",
   "execution_count": 41,
   "metadata": {},
   "outputs": [],
   "source": [
    "#We use accuracy to check the overall performance of our model. Accuracy is defined as overall, how often is the classifier correct.\n",
    "#The above model's accuracy is 79.8%"
   ]
  },
  {
   "cell_type": "markdown",
   "metadata": {},
   "source": [
    "## Confusion matrix for model 2"
   ]
  },
  {
   "cell_type": "code",
   "execution_count": 42,
   "metadata": {},
   "outputs": [
    {
     "data": {
      "text/plain": [
       "Confusion Matrix and Statistics\n",
       "\n",
       "          Reference\n",
       "Prediction    No   Yes\n",
       "       No  26491  6554\n",
       "       Yes    84    29\n",
       "                                          \n",
       "               Accuracy : 0.7998          \n",
       "                 95% CI : (0.7955, 0.8041)\n",
       "    No Information Rate : 0.8015          \n",
       "    P-Value [Acc > NIR] : 0.7778          \n",
       "                                          \n",
       "                  Kappa : 0.002           \n",
       "                                          \n",
       " Mcnemar's Test P-Value : <2e-16          \n",
       "                                          \n",
       "            Sensitivity : 0.996839        \n",
       "            Specificity : 0.004405        \n",
       "         Pos Pred Value : 0.801664        \n",
       "         Neg Pred Value : 0.256637        \n",
       "             Prevalence : 0.801466        \n",
       "         Detection Rate : 0.798932        \n",
       "   Detection Prevalence : 0.996592        \n",
       "      Balanced Accuracy : 0.500622        \n",
       "                                          \n",
       "       'Positive' Class : No              \n",
       "                                          "
      ]
     },
     "metadata": {},
     "output_type": "display_data"
    }
   ],
   "source": [
    "cm2 <- confusionMatrix(test_glm2, newdata_test$No.show, positive = NULL)\n",
    "cm2"
   ]
  },
  {
   "cell_type": "code",
   "execution_count": 43,
   "metadata": {},
   "outputs": [],
   "source": [
    "# The above model's accuracy is 79.98%"
   ]
  },
  {
   "cell_type": "markdown",
   "metadata": {},
   "source": [
    "## Confusion matrix for model 3"
   ]
  },
  {
   "cell_type": "code",
   "execution_count": 44,
   "metadata": {},
   "outputs": [
    {
     "data": {
      "text/plain": [
       "Confusion Matrix and Statistics\n",
       "\n",
       "          Reference\n",
       "Prediction    No   Yes\n",
       "       No  26411  6527\n",
       "       Yes   164    56\n",
       "                                          \n",
       "               Accuracy : 0.7982          \n",
       "                 95% CI : (0.7938, 0.8025)\n",
       "    No Information Rate : 0.8015          \n",
       "    P-Value [Acc > NIR] : 0.9322          \n",
       "                                          \n",
       "                  Kappa : 0.0037          \n",
       "                                          \n",
       " Mcnemar's Test P-Value : <2e-16          \n",
       "                                          \n",
       "            Sensitivity : 0.993829        \n",
       "            Specificity : 0.008507        \n",
       "         Pos Pred Value : 0.801840        \n",
       "         Neg Pred Value : 0.254545        \n",
       "             Prevalence : 0.801466        \n",
       "         Detection Rate : 0.796520        \n",
       "   Detection Prevalence : 0.993365        \n",
       "      Balanced Accuracy : 0.501168        \n",
       "                                          \n",
       "       'Positive' Class : No              \n",
       "                                          "
      ]
     },
     "metadata": {},
     "output_type": "display_data"
    }
   ],
   "source": [
    "cm3 <- confusionMatrix(test_glm3, newdata_test$No.show, positive = NULL)\n",
    "cm3"
   ]
  },
  {
   "cell_type": "code",
   "execution_count": 45,
   "metadata": {},
   "outputs": [],
   "source": [
    "# The above model's accuracy is 79.82%"
   ]
  },
  {
   "cell_type": "markdown",
   "metadata": {},
   "source": [
    "All three models have very similar accuracies.\n",
    "Model 2 and 3 are slightly better as they have less terms/variables that are insignificant."
   ]
  },
  {
   "cell_type": "markdown",
   "metadata": {},
   "source": [
    "## Conclusion\n",
    "The primary goal of our project was to analyze historical data related to patients and their medical appointments to try to understand why almost 30% of the patients do not show up for their pre-scheduled medical appointment.\n",
    "\n",
    "The various variables in the dataset were analyzed visually with the help of histograms, bar graphs and box plots. This gave us a better understanding about the impact of various variables on weather a patient shows up for their appointment or not.\n",
    "\n",
    "The entire dataset then split into train and test datasets.\n",
    "\n",
    "Logistic regression models were built on the train dataset and predictions were made on the test dataset. The models were then compared with the help of confusion matrices and with accuracy as the performance metric."
   ]
  },
  {
   "cell_type": "code",
   "execution_count": null,
   "metadata": {},
   "outputs": [],
   "source": []
  }
 ],
 "metadata": {
  "kernelspec": {
   "display_name": "R",
   "language": "R",
   "name": "ir"
  },
  "language_info": {
   "codemirror_mode": "r",
   "file_extension": ".r",
   "mimetype": "text/x-r-source",
   "name": "R",
   "pygments_lexer": "r",
   "version": "3.6.1"
  }
 },
 "nbformat": 4,
 "nbformat_minor": 2
}
